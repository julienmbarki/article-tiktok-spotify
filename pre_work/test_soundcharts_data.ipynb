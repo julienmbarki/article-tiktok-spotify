{
 "cells": [
  {
   "cell_type": "markdown",
   "metadata": {},
   "source": [
    "Import data and modules"
   ]
  },
  {
   "cell_type": "code",
   "execution_count": 1,
   "metadata": {
    "vscode": {
     "languageId": "r"
    }
   },
   "outputs": [
    {
     "name": "stderr",
     "output_type": "stream",
     "text": [
      "Warning message in sprintf(gettext(fmt, domain = domain), ...):\n",
      "\"un argument est inutilis'e par le format '? avec la version R %s'\"\n",
      "Warning message:\n",
      "\"? avec la version R 'dplyr'\"\n",
      "\n",
      "Attachement du package : 'dplyr'\n",
      "\n",
      "\n",
      "Les objets suivants sont masqu'es depuis 'package:stats':\n",
      "\n",
      "    filter, lag\n",
      "\n",
      "\n",
      "Les objets suivants sont masqu'es depuis 'package:base':\n",
      "\n",
      "    intersect, setdiff, setequal, union\n",
      "\n",
      "\n",
      "Warning message in sprintf(gettext(fmt, domain = domain), ...):\n",
      "\"un argument est inutilis'e par le format '? avec la version R %s'\"\n",
      "Warning message:\n",
      "\"? avec la version R 'ggplot2'\"\n",
      "Warning message in sprintf(gettext(fmt, domain = domain), ...):\n",
      "\"un argument est inutilis'e par le format '? avec la version R %s'\"\n",
      "Warning message:\n",
      "\"? avec la version R 'stargazer'\"\n",
      "\n",
      "Please cite as: \n",
      "\n",
      "\n",
      " Hlavac, Marek (2022). stargazer: Well-Formatted Regression and Summary Statistics Tables.\n",
      "\n",
      " R package version 5.2.3. https://CRAN.R-project.org/package=stargazer \n",
      "\n",
      "\n",
      "Warning message in sprintf(gettext(fmt, domain = domain), ...):\n",
      "\"un argument est inutilis'e par le format '? avec la version R %s'\"\n",
      "Warning message:\n",
      "\"? avec la version R 'purrr'\"\n",
      "Warning message in sprintf(gettext(fmt, domain = domain), ...):\n",
      "\"un argument est inutilis'e par le format '? avec la version R %s'\"\n",
      "Warning message:\n",
      "\"? avec la version R 'stringr'\"\n",
      "-- \u001b[1mAttaching packages\u001b[22m --------------------------------------- tidyverse 1.3.1 --\n",
      "\n",
      "\u001b[32mv\u001b[39m \u001b[34mtibble \u001b[39m 3.2.1     \u001b[32mv\u001b[39m \u001b[34mreadr  \u001b[39m 2.0.2\n",
      "\u001b[32mv\u001b[39m \u001b[34mtidyr  \u001b[39m 1.2.1     \u001b[32mv\u001b[39m \u001b[34mforcats\u001b[39m 0.5.1\n",
      "\n",
      "Warning message in sprintf(gettext(fmt, domain = domain), ...):\n",
      "\"un argument est inutilis'e par le format '? avec la version R %s'\"\n",
      "Warning message:\n",
      "\"? avec la version R 'tibble'\"\n",
      "Warning message in sprintf(gettext(fmt, domain = domain), ...):\n",
      "\"un argument est inutilis'e par le format '? avec la version R %s'\"\n",
      "Warning message:\n",
      "\"? avec la version R 'tidyr'\"\n",
      "-- \u001b[1mConflicts\u001b[22m ------------------------------------------ tidyverse_conflicts() --\n",
      "\u001b[31mx\u001b[39m \u001b[34mdplyr\u001b[39m::\u001b[32mfilter()\u001b[39m masks \u001b[34mstats\u001b[39m::filter()\n",
      "\u001b[31mx\u001b[39m \u001b[34mdplyr\u001b[39m::\u001b[32mlag()\u001b[39m    masks \u001b[34mstats\u001b[39m::lag()\n",
      "\n",
      "\n",
      "lessR 4.2.9                         feedback: gerbing@pdx.edu \n",
      "--------------------------------------------------------------\n",
      "> d <- Read(\"\")   Read text, Excel, SPSS, SAS, or R data file\n",
      "  d is default data frame, data= in analysis routines optional\n",
      "\n",
      "Learn about reading, writing, and manipulating data, graphics,\n",
      "testing means and proportions, regression, factor analysis,\n",
      "customization, and descriptive statistics from pivot tables\n",
      "  Enter:  browseVignettes(\"lessR\")\n",
      "\n",
      "View changes in this and recent versions of lessR\n",
      "  Enter: news(package=\"lessR\")\n",
      "\n",
      "Interactive data analysis\n",
      "  Enter: interact()\n",
      "\n",
      "\n",
      "\n",
      "Attachement du package : 'lessR'\n",
      "\n",
      "\n",
      "Les objets suivants sont masqu'es depuis 'package:dplyr':\n",
      "\n",
      "    recode, rename\n",
      "\n",
      "\n",
      "Le chargement a n'ecessit'e le package : zoo\n",
      "\n",
      "\n",
      "Attachement du package : 'zoo'\n",
      "\n",
      "\n",
      "Les objets suivants sont masqu'es depuis 'package:base':\n",
      "\n",
      "    as.Date, as.Date.numeric\n",
      "\n",
      "\n",
      "Le chargement a n'ecessit'e le package : carData\n",
      "\n",
      "\n",
      "Attachement du package : 'car'\n",
      "\n",
      "\n",
      "Les objets suivants sont masqu'es depuis 'package:lessR':\n",
      "\n",
      "    bc, recode, sp\n",
      "\n",
      "\n",
      "L'objet suivant est masqu'e depuis 'package:purrr':\n",
      "\n",
      "    some\n",
      "\n",
      "\n",
      "L'objet suivant est masqu'e depuis 'package:dplyr':\n",
      "\n",
      "    recode\n",
      "\n",
      "\n"
     ]
    }
   ],
   "source": [
    "library(dplyr)\n",
    "library(ggplot2)\n",
    "library(stats)\n",
    "library(stargazer)\n",
    "library(purrr)\n",
    "library(stringr)\n",
    "library(tidyverse)\n",
    "library(lessR)\n",
    "library(fixest)\n",
    "library(sandwich)\n",
    "library(lmtest)\n",
    "library(car)\n",
    "library(effsize)\n"
   ]
  },
  {
   "cell_type": "code",
   "execution_count": 4,
   "metadata": {
    "vscode": {
     "languageId": "r"
    }
   },
   "outputs": [],
   "source": [
    "df <- read.csv(\"soundcharts_data.csv\", sep = \";\")\n"
   ]
  },
  {
   "cell_type": "markdown",
   "metadata": {},
   "source": [
    "Desc stats"
   ]
  },
  {
   "cell_type": "code",
   "execution_count": 8,
   "metadata": {
    "vscode": {
     "languageId": "r"
    }
   },
   "outputs": [
    {
     "data": {
      "text/plain": [
       "      Min.    1st Qu.     Median       Mean    3rd Qu.       Max.       NA's \n",
       "      1007      53511     487685    4869423    2670734 2119541584       9565 "
      ]
     },
     "metadata": {},
     "output_type": "display_data"
    }
   ],
   "source": [
    "df$Spotify.stream.Total <- as.numeric(df$Spotify.stream.Total)\n",
    "summary(df$Spotify.stream.Total)\n"
   ]
  },
  {
   "cell_type": "code",
   "execution_count": 11,
   "metadata": {
    "vscode": {
     "languageId": "r"
    }
   },
   "outputs": [
    {
     "data": {
      "text/plain": [
       "\n",
       "\tPearson's product-moment correlation\n",
       "\n",
       "data:  df$Tiktok.videos.Change and df$Spotify.stream.Change\n",
       "t = 1.1689, df = 41013, p-value = 0.2424\n",
       "alternative hypothesis: true correlation is not equal to 0\n",
       "95 percent confidence interval:\n",
       " -0.003906086  0.015448976\n",
       "sample estimates:\n",
       "        cor \n",
       "0.005771986 \n"
      ]
     },
     "metadata": {},
     "output_type": "display_data"
    }
   ],
   "source": [
    "df$Tiktok.videos.Change <- as.numeric(df$Tiktok.videos.Change)\n",
    "df$Spotify.stream.Change <- as.numeric(df$Spotify.stream.Change)\n",
    "cor.test(df$Tiktok.videos.Change, df$Spotify.stream.Change)\n"
   ]
  }
 ],
 "metadata": {
  "kernelspec": {
   "display_name": "R",
   "language": "R",
   "name": "ir"
  },
  "language_info": {
   "codemirror_mode": "r",
   "file_extension": ".r",
   "mimetype": "text/x-r-source",
   "name": "R",
   "pygments_lexer": "r",
   "version": "4.1.1"
  }
 },
 "nbformat": 4,
 "nbformat_minor": 2
}
