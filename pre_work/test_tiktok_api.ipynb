{
 "cells": [
  {
   "cell_type": "code",
   "execution_count": 3,
   "metadata": {},
   "outputs": [
    {
     "ename": "ValueError",
     "evalue": "ms_token is not set in the environment variables.",
     "output_type": "error",
     "traceback": [
      "\u001b[0;31m---------------------------------------------------------------------------\u001b[0m",
      "\u001b[0;31mValueError\u001b[0m                                Traceback (most recent call last)",
      "Cell \u001b[0;32mIn [3], line 7\u001b[0m\n\u001b[1;32m      5\u001b[0m ms_token \u001b[38;5;241m=\u001b[39m os\u001b[38;5;241m.\u001b[39menviron\u001b[38;5;241m.\u001b[39mget(\u001b[38;5;124m\"\u001b[39m\u001b[38;5;124mms_token\u001b[39m\u001b[38;5;124m\"\u001b[39m)\n\u001b[1;32m      6\u001b[0m \u001b[38;5;28;01mif\u001b[39;00m \u001b[38;5;129;01mnot\u001b[39;00m ms_token:\n\u001b[0;32m----> 7\u001b[0m     \u001b[38;5;28;01mraise\u001b[39;00m \u001b[38;5;167;01mValueError\u001b[39;00m(\u001b[38;5;124m\"\u001b[39m\u001b[38;5;124mms_token is not set in the environment variables.\u001b[39m\u001b[38;5;124m\"\u001b[39m)\n\u001b[1;32m      9\u001b[0m \u001b[38;5;28;01masync\u001b[39;00m \u001b[38;5;28;01mdef\u001b[39;00m \u001b[38;5;21mtrending_videos\u001b[39m():\n\u001b[1;32m     10\u001b[0m     \u001b[38;5;28;01masync\u001b[39;00m \u001b[38;5;28;01mwith\u001b[39;00m TikTokApi() \u001b[38;5;28;01mas\u001b[39;00m api:\n",
      "\u001b[0;31mValueError\u001b[0m: ms_token is not set in the environment variables."
     ]
    }
   ],
   "source": [
    "import os\n",
    "import asyncio\n",
    "from TikTokApi import TikTokApi\n",
    "\n",
    "ms_token = os.environ.get(\"ms_token\")\n",
    "if not ms_token:\n",
    "    raise ValueError(\"ms_token is not set in the environment variables.\")\n",
    "\n",
    "async def trending_videos():\n",
    "    async with TikTokApi() as api:\n",
    "        await api.create_sessions(headless=False, ms_tokens=[ms_token], num_sessions=1, sleep_after=3)\n",
    "        sound_info = await api.sound(id='7016547803243022337').info()\n",
    "        print(sound_info)\n",
    "\n",
    "if __name__ == \"__main__\":\n",
    "    asyncio.run(trending_videos())\n"
   ]
  }
 ],
 "metadata": {
  "kernelspec": {
   "display_name": "Python 3",
   "language": "python",
   "name": "python3"
  },
  "language_info": {
   "codemirror_mode": {
    "name": "ipython",
    "version": 3
   },
   "file_extension": ".py",
   "mimetype": "text/x-python",
   "name": "python",
   "nbconvert_exporter": "python",
   "pygments_lexer": "ipython3",
   "version": "3.10.2"
  }
 },
 "nbformat": 4,
 "nbformat_minor": 2
}
