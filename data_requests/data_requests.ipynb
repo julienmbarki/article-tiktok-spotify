{
 "cells": [
  {
   "cell_type": "markdown",
   "metadata": {},
   "source": [
    "# Pre-work TikTok soundcharts API"
   ]
  },
  {
   "cell_type": "markdown",
   "metadata": {},
   "source": [
    "## Setup"
   ]
  },
  {
   "cell_type": "code",
   "execution_count": null,
   "metadata": {},
   "outputs": [],
   "source": [
    "# Import modules\n",
    "import pandas as pd\n",
    "\n",
    "from datetime import datetime, timedelta\n",
    "from soundcharts_API_client import *\n",
    "from tqdm import tqdm\n"
   ]
  },
  {
   "cell_type": "code",
   "execution_count": null,
   "metadata": {},
   "outputs": [],
   "source": [
    "# API connexion\n",
    "x_app_id = 'PARIS1_E22B0B40'\n",
    "x_api_key = '3c7bfb46ee2705df'\n",
    "\n",
    "sdch = SoundchartsClient(x_app_id, x_api_key)\n"
   ]
  },
  {
   "cell_type": "markdown",
   "metadata": {},
   "source": [
    "## Get data"
   ]
  },
  {
   "cell_type": "markdown",
   "metadata": {},
   "source": [
    "### Get track and artist-level infos"
   ]
  },
  {
   "cell_type": "code",
   "execution_count": null,
   "metadata": {},
   "outputs": [],
   "source": [
    "# Import playlist data\n",
    "df = pd.read_excel('tiktok_charts_tracks_with_use.xlsx')\n"
   ]
  },
  {
   "cell_type": "code",
   "execution_count": null,
   "metadata": {},
   "outputs": [],
   "source": [
    "# Get the tracks' and artists' info\n",
    "results_df = []\n",
    "\n",
    "for index, row in df.iterrows():\n",
    "    track_id = row['track_uuid']\n",
    "    \n",
    "    collection_date = row['collection_date']\n",
    "    track_position = row['track_position']\n",
    "    artist_video = row['artist_video']\n",
    "    artist_video_date = row['artist_video_date']\n",
    "\n",
    "    tracks = sdch.get_track_metadata(track_id=track_id)\n",
    "\n",
    "    track_names = tracks.get(\"object\", {}).get(\"name\")\n",
    "    tracks_ids = tracks.get(\"object\", {}).get(\"uuid\")\n",
    "    track_dates = tracks.get(\"object\", {}).get(\"releaseDate\")\n",
    "    track_features = tracks.get(\"object\", {}).get(\"audio\")\n",
    "\n",
    "    artist_names = []\n",
    "    artist_ids = []\n",
    "\n",
    "    for artist in tracks.get(\"object\", {}).get(\"artists\", []):\n",
    "        artist_names.append(artist.get(\"name\"))\n",
    "        artist_ids.append(artist.get(\"uuid\"))\n",
    "\n",
    "    label_names = []\n",
    "    label_types = []\n",
    "\n",
    "    for label in tracks.get(\"object\", {}).get(\"labels\", []):\n",
    "        label_names.append(label.get(\"name\"))\n",
    "        label_types.append(label.get(\"type\"))\n",
    "    \n",
    "    track_genres = []\n",
    "    \n",
    "    for genre in tracks.get(\"object\", {}).get(\"genres\", []):\n",
    "        track_genres.append(genre.get(\"root\"))\n",
    "\n",
    "    collection_date_dt = datetime.fromisoformat(collection_date)\n",
    "    date_norm = collection_date_dt.strftime('%Y-%m-%d')\n",
    "\n",
    "    followers = []\n",
    "\n",
    "    for artist_id in artist_ids:\n",
    "        artists_followers = sdch.get_artist_tiktok_followers_by_date(\n",
    "            artist_id=artist_id,\n",
    "            startDate=(collection_date_dt - timedelta(days=1)).strftime('%Y-%m-%d'),\n",
    "            endDate=date_norm\n",
    "        )\n",
    "\n",
    "        if 'items' in artists_followers and artists_followers['items']:\n",
    "            follower_count = artists_followers['items'][0].get('followerCount', None)\n",
    "            followers.append(follower_count)\n",
    "        else:\n",
    "            followers.append(None)\n",
    "\n",
    "    results_df.append({\n",
    "        \"collection_date\": collection_date,\n",
    "        \"track_position\": track_position,\n",
    "        \"track_name\": track_names,\n",
    "        \"track_id\": tracks_ids,\n",
    "        \"artist_name\": artist_names,\n",
    "        \"artist_id\": artist_ids,\n",
    "        \"artist_followers\": followers,\n",
    "        \"label_name\": label_names,\n",
    "        \"label_type\": label_types,\n",
    "        \"track_date\": track_dates,\n",
    "        \"track_genres\": track_genres,\n",
    "        \"track_features\": track_features,\n",
    "        \"artist_video\": artist_video,\n",
    "        \"artist_video_date\": artist_video_date\n",
    "    })\n",
    "\n",
    "# Convert the list to a DataFrame\n",
    "df = pd.DataFrame(results_df)\n",
    "df.to_csv('tiktok_tracks_info.csv', index=False)\n",
    "\n",
    "# Print the DataFrame\n",
    "display(df)\n"
   ]
  },
  {
   "cell_type": "markdown",
   "metadata": {},
   "source": [
    "### Get tracks' streams and tiktok videos"
   ]
  },
  {
   "cell_type": "code",
   "execution_count": null,
   "metadata": {},
   "outputs": [],
   "source": [
    "# Import tracks playlist data\n",
    "df = pd.read_excel('tiktok_tracks_info.csv')\n"
   ]
  },
  {
   "cell_type": "code",
   "execution_count": null,
   "metadata": {},
   "outputs": [],
   "source": [
    "# Get the streams for each track\n",
    "results_df = []\n",
    "\n",
    "for index, row in df.iterrows():\n",
    "    collection_date = row['collection_date']\n",
    "    track_id = row['track_id']\n",
    "    track_name = row['track_name']\n",
    "    track_position = row['track_position']\n",
    "    track_date = row['track_date']\n",
    "    track_genres = row['track_genres']\n",
    "    track_features = row['track_features']\n",
    "    artist_name = row['artist_name']\n",
    "    artist_id = row['artist_id']\n",
    "    artis_followers = row['artist_followers']\n",
    "    label_name = row['label_name']\n",
    "    label_type = row['label_type']\n",
    "    artist_video = row['artist_video']\n",
    "    artist_video_date = row['artist_video_date']\n",
    "\n",
    "    collection_date_dt = datetime.fromisoformat(collection_date)\n",
    "    date_norm = collection_date_dt.strftime('%Y-%m-%d')\n",
    "\n",
    "    streams_data = sdch.get_track_streams_by_date(\n",
    "        startDate=date_norm,\n",
    "        endDate=datetime.now().strftime('%Y-%m-%d'),\n",
    "        track_id=track_id\n",
    "    )\n",
    "\n",
    "    processed_date = set()\n",
    "    \n",
    "    for item in streams_data.get(\"items\", []):\n",
    "        date = item.get(\"date\")\n",
    "        \n",
    "        if date in processed_date:\n",
    "            continue\n",
    "        \n",
    "        processed_date.add(date)\n",
    "        \n",
    "        first_plot = next(iter(item.get(\"plots\", [])), None)\n",
    "        \n",
    "        if first_plot:\n",
    "            results_df.append({\n",
    "                \"collection_date\": collection_date,\n",
    "                \"track_position\": track_position,\n",
    "                \"track_name\": track_name,\n",
    "                \"track_id\": track_id,\n",
    "                \"artist_name\": artist_name,\n",
    "                \"artist_id\": artist_id,\n",
    "                \"label_name\": label_name,\n",
    "                \"label_type\": label_type,\n",
    "                \"track_date\": track_date,\n",
    "                \"track_genres\": track_genres,\n",
    "                \"track_features\": track_features,\n",
    "                \"stream_date\": date,\n",
    "                \"streams\": first_plot.get(\"value\")\n",
    "            })\n",
    "\n",
    "# Convert the list to a DataFrame\n",
    "df = pd.DataFrame(results_df)\n",
    "df.to_excel('tracks_info_streams.xlsx', index=False)\n",
    "\n",
    "# Print the DataFrame\n",
    "display(df)\n"
   ]
  }
 ],
 "metadata": {
  "kernelspec": {
   "display_name": "Python 3",
   "language": "python",
   "name": "python3"
  },
  "language_info": {
   "codemirror_mode": {
    "name": "ipython",
    "version": 3
   },
   "file_extension": ".py",
   "mimetype": "text/x-python",
   "name": "python",
   "nbconvert_exporter": "python",
   "pygments_lexer": "ipython3",
   "version": "3.10.2"
  }
 },
 "nbformat": 4,
 "nbformat_minor": 2
}
