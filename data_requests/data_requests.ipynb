{
 "cells": [
  {
   "cell_type": "markdown",
   "metadata": {},
   "source": [
    "# Pre-work TikTok soundcharts API"
   ]
  },
  {
   "cell_type": "markdown",
   "metadata": {},
   "source": [
    "## Setup"
   ]
  },
  {
   "cell_type": "code",
   "execution_count": 1,
   "metadata": {},
   "outputs": [],
   "source": [
    "# Import modules\n",
    "import pandas as pd\n",
    "\n",
    "from datetime import datetime, timedelta\n",
    "from soundcharts_API_client import *\n",
    "from tqdm import tqdm\n"
   ]
  },
  {
   "cell_type": "code",
   "execution_count": 2,
   "metadata": {},
   "outputs": [],
   "source": [
    "# API connexion\n",
    "x_app_id = 'PARIS1_E22B0B40'\n",
    "x_api_key = '3c7bfb46ee2705df'\n",
    "\n",
    "sdch = SoundchartsClient(x_app_id, x_api_key)\n"
   ]
  },
  {
   "cell_type": "markdown",
   "metadata": {},
   "source": [
    "## Get data"
   ]
  },
  {
   "cell_type": "markdown",
   "metadata": {},
   "source": [
    "### Get track and artist-level infos"
   ]
  },
  {
   "cell_type": "code",
   "execution_count": null,
   "metadata": {},
   "outputs": [],
   "source": [
    "# Import playlist data\n",
    "df = pd.read_excel('tiktok_charts_tracks_with_use.xlsx')\n"
   ]
  },
  {
   "cell_type": "code",
   "execution_count": null,
   "metadata": {},
   "outputs": [],
   "source": [
    "# Get the tracks' and artists' info\n",
    "results_df = []\n",
    "\n",
    "for index, row in df.iterrows():\n",
    "    track_id = row['track_uuid']\n",
    "    tiktok_id = row['track_tiktok_id']\n",
    "    \n",
    "    collection_date = row['collection_date']\n",
    "    track_position = row['track_position']\n",
    "    artist_video = row['artist_video']\n",
    "    artist_video_date = row['artist_video_date']\n",
    "\n",
    "    tracks = sdch.get_track_metadata(track_id=track_id)\n",
    "\n",
    "    track_names = tracks.get(\"object\", {}).get(\"name\")\n",
    "    tracks_ids = tracks.get(\"object\", {}).get(\"uuid\")\n",
    "    track_dates = tracks.get(\"object\", {}).get(\"releaseDate\")\n",
    "    track_features = tracks.get(\"object\", {}).get(\"audio\")\n",
    "\n",
    "    artist_names = []\n",
    "    artist_ids = []\n",
    "\n",
    "    for artist in tracks.get(\"object\", {}).get(\"artists\", []):\n",
    "        artist_names.append(artist.get(\"name\"))\n",
    "        artist_ids.append(artist.get(\"uuid\"))\n",
    "\n",
    "    label_names = []\n",
    "    label_types = []\n",
    "\n",
    "    for label in tracks.get(\"object\", {}).get(\"labels\", []):\n",
    "        label_names.append(label.get(\"name\"))\n",
    "        label_types.append(label.get(\"type\"))\n",
    "    \n",
    "    track_genres = []\n",
    "    \n",
    "    for genre in tracks.get(\"object\", {}).get(\"genres\", []):\n",
    "        track_genres.append(genre.get(\"root\"))\n",
    "\n",
    "    collection_date_dt = datetime.fromisoformat(collection_date)\n",
    "    date_norm = collection_date_dt.strftime('%Y-%m-%d')\n",
    "\n",
    "    followers = []\n",
    "\n",
    "    for artist_id in artist_ids:\n",
    "        artists_followers = sdch.get_artist_tiktok_followers_by_date(\n",
    "            artist_id=artist_id,\n",
    "            startDate=(collection_date_dt - timedelta(days=1)).strftime('%Y-%m-%d'),\n",
    "            endDate=date_norm\n",
    "        )\n",
    "\n",
    "        if 'items' in artists_followers and artists_followers['items']:\n",
    "            follower_count = artists_followers['items'][0].get('followerCount', None)\n",
    "            followers.append(follower_count)\n",
    "        else:\n",
    "            followers.append(None)\n",
    "\n",
    "    results_df.append({\n",
    "        \"collection_date\": collection_date,\n",
    "        \"track_position\": track_position,\n",
    "        \"track_name\": track_names,\n",
    "        \"track_id\": tracks_ids,\n",
    "        \"track_tiktok_id\": tiktok_id,\n",
    "        \"artist_name\": artist_names,\n",
    "        \"artist_id\": artist_ids,\n",
    "        \"artist_followers\": followers,\n",
    "        \"label_name\": label_names,\n",
    "        \"label_type\": label_types,\n",
    "        \"track_date\": track_dates,\n",
    "        \"track_genres\": track_genres,\n",
    "        \"track_features\": track_features,\n",
    "        \"artist_video\": artist_video,\n",
    "        \"artist_video_date\": artist_video_date\n",
    "    })\n",
    "\n",
    "# Convert the list to a DataFrame\n",
    "df = pd.DataFrame(results_df)\n",
    "df.to_csv('tiktok_tracks_info.csv', index=False)\n",
    "\n",
    "# Print the DataFrame\n",
    "display(df)\n"
   ]
  },
  {
   "cell_type": "markdown",
   "metadata": {},
   "source": [
    "### Get tracks' streams and tiktok videos"
   ]
  },
  {
   "cell_type": "code",
   "execution_count": 5,
   "metadata": {},
   "outputs": [],
   "source": [
    "# Import tracks playlist data\n",
    "df = pd.read_csv('tiktok_tracks_info.csv')\n"
   ]
  },
  {
   "cell_type": "code",
   "execution_count": 6,
   "metadata": {},
   "outputs": [
    {
     "name": "stderr",
     "output_type": "stream",
     "text": [
      "Processing rows:   0%|          | 1/300 [00:00<01:52,  2.66it/s]"
     ]
    },
    {
     "name": "stdout",
     "output_type": "stream",
     "text": [
      "Status code: 200\n",
      "Status code: 200\n"
     ]
    },
    {
     "name": "stderr",
     "output_type": "stream",
     "text": [
      "Processing rows:   1%|          | 2/300 [00:00<01:42,  2.90it/s]"
     ]
    },
    {
     "name": "stdout",
     "output_type": "stream",
     "text": [
      "Status code: 200\n",
      "Status code: 200\n"
     ]
    },
    {
     "name": "stderr",
     "output_type": "stream",
     "text": [
      "Processing rows:   1%|          | 3/300 [00:01<01:39,  3.00it/s]"
     ]
    },
    {
     "name": "stdout",
     "output_type": "stream",
     "text": [
      "Status code: 200\n",
      "Status code: 200\n"
     ]
    },
    {
     "name": "stderr",
     "output_type": "stream",
     "text": [
      "Processing rows:   1%|▏         | 4/300 [00:01<01:41,  2.91it/s]"
     ]
    },
    {
     "name": "stdout",
     "output_type": "stream",
     "text": [
      "Status code: 200\n",
      "Status code: 200\n"
     ]
    },
    {
     "name": "stderr",
     "output_type": "stream",
     "text": [
      "Processing rows:   2%|▏         | 5/300 [00:01<01:41,  2.92it/s]"
     ]
    },
    {
     "name": "stdout",
     "output_type": "stream",
     "text": [
      "Status code: 200\n",
      "Status code: 200\n"
     ]
    },
    {
     "name": "stderr",
     "output_type": "stream",
     "text": [
      "Processing rows:   2%|▏         | 6/300 [00:02<01:49,  2.68it/s]"
     ]
    },
    {
     "name": "stdout",
     "output_type": "stream",
     "text": [
      "Status code: 200\n",
      "Status code: 200\n"
     ]
    },
    {
     "name": "stderr",
     "output_type": "stream",
     "text": [
      "Processing rows:   2%|▏         | 7/300 [00:02<01:54,  2.55it/s]"
     ]
    },
    {
     "name": "stdout",
     "output_type": "stream",
     "text": [
      "Status code: 200\n",
      "Status code: 200\n"
     ]
    },
    {
     "name": "stderr",
     "output_type": "stream",
     "text": [
      "Processing rows:   3%|▎         | 8/300 [00:02<01:53,  2.57it/s]"
     ]
    },
    {
     "name": "stdout",
     "output_type": "stream",
     "text": [
      "Status code: 200\n",
      "Status code: 200\n",
      "Status code: 200\n"
     ]
    },
    {
     "name": "stderr",
     "output_type": "stream",
     "text": [
      "Processing rows:   3%|▎         | 9/300 [00:03<01:53,  2.55it/s]"
     ]
    },
    {
     "name": "stdout",
     "output_type": "stream",
     "text": [
      "Status code: 200\n",
      "Status code: 200\n"
     ]
    },
    {
     "name": "stderr",
     "output_type": "stream",
     "text": [
      "Processing rows:   3%|▎         | 10/300 [00:03<01:51,  2.61it/s]"
     ]
    },
    {
     "name": "stdout",
     "output_type": "stream",
     "text": [
      "Status code: 200\n",
      "Status code: 200\n"
     ]
    },
    {
     "name": "stderr",
     "output_type": "stream",
     "text": [
      "Processing rows:   4%|▎         | 11/300 [00:04<01:47,  2.69it/s]"
     ]
    },
    {
     "name": "stdout",
     "output_type": "stream",
     "text": [
      "Status code: 200\n",
      "Status code: 200\n"
     ]
    },
    {
     "name": "stderr",
     "output_type": "stream",
     "text": [
      "Processing rows:   4%|▍         | 12/300 [00:04<01:43,  2.77it/s]"
     ]
    },
    {
     "name": "stdout",
     "output_type": "stream",
     "text": [
      "Status code: 200\n",
      "Status code: 200\n"
     ]
    },
    {
     "name": "stderr",
     "output_type": "stream",
     "text": [
      "Processing rows:   4%|▍         | 13/300 [00:04<01:38,  2.92it/s]"
     ]
    },
    {
     "name": "stdout",
     "output_type": "stream",
     "text": [
      "Status code: 200\n",
      "Status code: 200\n"
     ]
    },
    {
     "name": "stderr",
     "output_type": "stream",
     "text": [
      "Processing rows:   5%|▍         | 14/300 [00:05<01:33,  3.05it/s]"
     ]
    },
    {
     "name": "stdout",
     "output_type": "stream",
     "text": [
      "Status code: 200\n"
     ]
    },
    {
     "name": "stderr",
     "output_type": "stream",
     "text": [
      "Processing rows:   5%|▌         | 15/300 [00:05<01:45,  2.71it/s]"
     ]
    },
    {
     "name": "stdout",
     "output_type": "stream",
     "text": [
      "Status code: 200\n",
      "Status code: 200\n"
     ]
    },
    {
     "name": "stderr",
     "output_type": "stream",
     "text": [
      "Processing rows:   5%|▌         | 16/300 [00:05<01:38,  2.89it/s]"
     ]
    },
    {
     "name": "stdout",
     "output_type": "stream",
     "text": [
      "Status code: 200\n",
      "Status code: 200\n"
     ]
    },
    {
     "name": "stderr",
     "output_type": "stream",
     "text": [
      "Processing rows:   6%|▌         | 17/300 [00:06<01:40,  2.81it/s]"
     ]
    },
    {
     "name": "stdout",
     "output_type": "stream",
     "text": [
      "Status code: 200\n",
      "Status code: 200\n"
     ]
    },
    {
     "name": "stderr",
     "output_type": "stream",
     "text": [
      "Processing rows:   6%|▌         | 18/300 [00:06<01:37,  2.89it/s]"
     ]
    },
    {
     "name": "stdout",
     "output_type": "stream",
     "text": [
      "Status code: 200\n",
      "Status code: 200\n"
     ]
    },
    {
     "name": "stderr",
     "output_type": "stream",
     "text": [
      "Processing rows:   6%|▋         | 19/300 [00:06<01:33,  3.01it/s]"
     ]
    },
    {
     "name": "stdout",
     "output_type": "stream",
     "text": [
      "Status code: 200\n",
      "Status code: 200\n"
     ]
    },
    {
     "name": "stderr",
     "output_type": "stream",
     "text": [
      "Processing rows:   7%|▋         | 20/300 [00:07<01:43,  2.70it/s]"
     ]
    },
    {
     "name": "stdout",
     "output_type": "stream",
     "text": [
      "Status code: 200\n",
      "Status code: 200\n",
      "Status code: 200\n"
     ]
    },
    {
     "name": "stderr",
     "output_type": "stream",
     "text": [
      "Processing rows:   7%|▋         | 21/300 [00:07<01:42,  2.71it/s]"
     ]
    },
    {
     "name": "stdout",
     "output_type": "stream",
     "text": [
      "Status code: 200\n"
     ]
    },
    {
     "name": "stderr",
     "output_type": "stream",
     "text": [
      "Processing rows:   7%|▋         | 22/300 [00:08<01:50,  2.52it/s]"
     ]
    },
    {
     "name": "stdout",
     "output_type": "stream",
     "text": [
      "Status code: 200\n",
      "Status code: 200\n"
     ]
    },
    {
     "name": "stderr",
     "output_type": "stream",
     "text": [
      "Processing rows:   8%|▊         | 23/300 [00:08<01:42,  2.71it/s]"
     ]
    },
    {
     "name": "stdout",
     "output_type": "stream",
     "text": [
      "Status code: 200\n",
      "Status code: 200\n"
     ]
    },
    {
     "name": "stderr",
     "output_type": "stream",
     "text": [
      "Processing rows:   8%|▊         | 24/300 [00:08<01:52,  2.46it/s]"
     ]
    },
    {
     "name": "stdout",
     "output_type": "stream",
     "text": [
      "Status code: 200\n",
      "Status code: 200\n"
     ]
    },
    {
     "name": "stderr",
     "output_type": "stream",
     "text": [
      "Processing rows:   8%|▊         | 25/300 [00:09<01:50,  2.50it/s]"
     ]
    },
    {
     "name": "stdout",
     "output_type": "stream",
     "text": [
      "Status code: 200\n",
      "Status code: 200\n"
     ]
    },
    {
     "name": "stderr",
     "output_type": "stream",
     "text": [
      "Processing rows:   9%|▊         | 26/300 [00:09<01:43,  2.64it/s]"
     ]
    },
    {
     "name": "stdout",
     "output_type": "stream",
     "text": [
      "Status code: 200\n",
      "Status code: 200\n"
     ]
    },
    {
     "name": "stderr",
     "output_type": "stream",
     "text": [
      "Processing rows:   9%|▉         | 27/300 [00:09<01:40,  2.71it/s]"
     ]
    },
    {
     "name": "stdout",
     "output_type": "stream",
     "text": [
      "Status code: 404\n",
      "Status code: 200\n"
     ]
    },
    {
     "name": "stderr",
     "output_type": "stream",
     "text": [
      "Processing rows:   9%|▉         | 28/300 [00:10<01:33,  2.89it/s]"
     ]
    },
    {
     "name": "stdout",
     "output_type": "stream",
     "text": [
      "Status code: 200\n",
      "Status code: 200\n"
     ]
    },
    {
     "name": "stderr",
     "output_type": "stream",
     "text": [
      "Processing rows:  10%|▉         | 29/300 [00:10<01:28,  3.05it/s]"
     ]
    },
    {
     "name": "stdout",
     "output_type": "stream",
     "text": [
      "Status code: 200\n",
      "Status code: 200\n"
     ]
    },
    {
     "name": "stderr",
     "output_type": "stream",
     "text": [
      "Processing rows:  10%|█         | 30/300 [00:10<01:32,  2.91it/s]"
     ]
    },
    {
     "name": "stdout",
     "output_type": "stream",
     "text": [
      "Status code: 200\n",
      "Status code: 200\n"
     ]
    },
    {
     "name": "stderr",
     "output_type": "stream",
     "text": [
      "Processing rows:  10%|█         | 31/300 [00:11<01:31,  2.95it/s]"
     ]
    },
    {
     "name": "stdout",
     "output_type": "stream",
     "text": [
      "Status code: 200\n",
      "Status code: 200\n"
     ]
    },
    {
     "name": "stderr",
     "output_type": "stream",
     "text": [
      "Processing rows:  11%|█         | 32/300 [00:11<01:25,  3.13it/s]"
     ]
    },
    {
     "name": "stdout",
     "output_type": "stream",
     "text": [
      "Status code: 404\n",
      "Status code: 200\n"
     ]
    },
    {
     "name": "stderr",
     "output_type": "stream",
     "text": [
      "Processing rows:  11%|█         | 33/300 [00:11<01:27,  3.06it/s]"
     ]
    },
    {
     "name": "stdout",
     "output_type": "stream",
     "text": [
      "Status code: 200\n",
      "Status code: 200\n"
     ]
    },
    {
     "name": "stderr",
     "output_type": "stream",
     "text": [
      "Processing rows:  11%|█▏        | 34/300 [00:12<01:25,  3.12it/s]"
     ]
    },
    {
     "name": "stdout",
     "output_type": "stream",
     "text": [
      "Status code: 200\n",
      "Status code: 200\n"
     ]
    },
    {
     "name": "stderr",
     "output_type": "stream",
     "text": [
      "Processing rows:  12%|█▏        | 35/300 [00:12<01:20,  3.27it/s]"
     ]
    },
    {
     "name": "stdout",
     "output_type": "stream",
     "text": [
      "Status code: 200\n",
      "Status code: 200\n"
     ]
    },
    {
     "name": "stderr",
     "output_type": "stream",
     "text": [
      "Processing rows:  12%|█▏        | 36/300 [00:12<01:38,  2.67it/s]"
     ]
    },
    {
     "name": "stdout",
     "output_type": "stream",
     "text": [
      "Status code: 200\n",
      "Status code: 200\n"
     ]
    },
    {
     "name": "stderr",
     "output_type": "stream",
     "text": [
      "Processing rows:  12%|█▏        | 37/300 [00:13<01:33,  2.81it/s]"
     ]
    },
    {
     "name": "stdout",
     "output_type": "stream",
     "text": [
      "Status code: 404\n",
      "Status code: 200\n"
     ]
    },
    {
     "name": "stderr",
     "output_type": "stream",
     "text": [
      "Processing rows:  13%|█▎        | 38/300 [00:13<01:28,  2.96it/s]"
     ]
    },
    {
     "name": "stdout",
     "output_type": "stream",
     "text": [
      "Status code: 404\n",
      "Status code: 200\n"
     ]
    },
    {
     "name": "stderr",
     "output_type": "stream",
     "text": [
      "Processing rows:  13%|█▎        | 39/300 [00:13<01:27,  2.98it/s]"
     ]
    },
    {
     "name": "stdout",
     "output_type": "stream",
     "text": [
      "Status code: 200\n",
      "Status code: 200\n"
     ]
    },
    {
     "name": "stderr",
     "output_type": "stream",
     "text": [
      "Processing rows:  13%|█▎        | 40/300 [00:14<01:28,  2.93it/s]"
     ]
    },
    {
     "name": "stdout",
     "output_type": "stream",
     "text": [
      "Status code: 200\n",
      "Status code: 200\n"
     ]
    },
    {
     "name": "stderr",
     "output_type": "stream",
     "text": [
      "Processing rows:  14%|█▎        | 41/300 [00:14<01:29,  2.88it/s]"
     ]
    },
    {
     "name": "stdout",
     "output_type": "stream",
     "text": [
      "Status code: 200\n",
      "Status code: 200\n"
     ]
    },
    {
     "name": "stderr",
     "output_type": "stream",
     "text": [
      "Processing rows:  14%|█▍        | 42/300 [00:14<01:27,  2.93it/s]"
     ]
    },
    {
     "name": "stdout",
     "output_type": "stream",
     "text": [
      "Status code: 404\n",
      "Status code: 200\n"
     ]
    },
    {
     "name": "stderr",
     "output_type": "stream",
     "text": [
      "Processing rows:  14%|█▍        | 43/300 [00:15<01:25,  2.99it/s]"
     ]
    },
    {
     "name": "stdout",
     "output_type": "stream",
     "text": [
      "Status code: 200\n",
      "Status code: 200\n"
     ]
    },
    {
     "name": "stderr",
     "output_type": "stream",
     "text": [
      "Processing rows:  15%|█▍        | 44/300 [00:15<01:33,  2.73it/s]"
     ]
    },
    {
     "name": "stdout",
     "output_type": "stream",
     "text": [
      "Status code: 200\n",
      "Status code: 200\n"
     ]
    },
    {
     "name": "stderr",
     "output_type": "stream",
     "text": [
      "Processing rows:  15%|█▌        | 45/300 [00:15<01:30,  2.82it/s]"
     ]
    },
    {
     "name": "stdout",
     "output_type": "stream",
     "text": [
      "Status code: 200\n",
      "Status code: 200\n"
     ]
    },
    {
     "name": "stderr",
     "output_type": "stream",
     "text": [
      "Processing rows:  15%|█▌        | 46/300 [00:16<01:24,  3.01it/s]"
     ]
    },
    {
     "name": "stdout",
     "output_type": "stream",
     "text": [
      "Status code: 404\n",
      "Status code: 200\n"
     ]
    },
    {
     "name": "stderr",
     "output_type": "stream",
     "text": [
      "Processing rows:  16%|█▌        | 47/300 [00:16<01:20,  3.13it/s]"
     ]
    },
    {
     "name": "stdout",
     "output_type": "stream",
     "text": [
      "Status code: 200\n",
      "Status code: 200\n"
     ]
    },
    {
     "name": "stderr",
     "output_type": "stream",
     "text": [
      "Processing rows:  16%|█▌        | 48/300 [00:16<01:17,  3.24it/s]"
     ]
    },
    {
     "name": "stdout",
     "output_type": "stream",
     "text": [
      "Status code: 200\n",
      "Status code: 200\n",
      "Status code: 404\n"
     ]
    },
    {
     "name": "stderr",
     "output_type": "stream",
     "text": [
      "Processing rows:  16%|█▋        | 49/300 [00:17<01:19,  3.14it/s]"
     ]
    },
    {
     "name": "stdout",
     "output_type": "stream",
     "text": [
      "Status code: 200\n",
      "Status code: 200\n"
     ]
    },
    {
     "name": "stderr",
     "output_type": "stream",
     "text": [
      "Processing rows:  17%|█▋        | 50/300 [00:17<01:19,  3.13it/s]"
     ]
    },
    {
     "name": "stdout",
     "output_type": "stream",
     "text": [
      "Status code: 200\n",
      "Status code: 200\n"
     ]
    },
    {
     "name": "stderr",
     "output_type": "stream",
     "text": [
      "Processing rows:  17%|█▋        | 51/300 [00:17<01:20,  3.11it/s]"
     ]
    },
    {
     "name": "stdout",
     "output_type": "stream",
     "text": [
      "Status code: 200\n",
      "Status code: 200\n"
     ]
    },
    {
     "name": "stderr",
     "output_type": "stream",
     "text": [
      "Processing rows:  17%|█▋        | 52/300 [00:18<01:18,  3.16it/s]"
     ]
    },
    {
     "name": "stdout",
     "output_type": "stream",
     "text": [
      "Status code: 200\n",
      "Status code: 200\n"
     ]
    },
    {
     "name": "stderr",
     "output_type": "stream",
     "text": [
      "Processing rows:  18%|█▊        | 53/300 [00:18<01:16,  3.23it/s]"
     ]
    },
    {
     "name": "stdout",
     "output_type": "stream",
     "text": [
      "Status code: 200\n",
      "Status code: 200\n"
     ]
    },
    {
     "name": "stderr",
     "output_type": "stream",
     "text": [
      "Processing rows:  18%|█▊        | 54/300 [00:18<01:13,  3.33it/s]"
     ]
    },
    {
     "name": "stdout",
     "output_type": "stream",
     "text": [
      "Status code: 200\n",
      "Status code: 200\n"
     ]
    },
    {
     "name": "stderr",
     "output_type": "stream",
     "text": [
      "Processing rows:  18%|█▊        | 55/300 [00:18<01:12,  3.36it/s]"
     ]
    },
    {
     "name": "stdout",
     "output_type": "stream",
     "text": [
      "Status code: 200\n",
      "Status code: 200\n"
     ]
    },
    {
     "name": "stderr",
     "output_type": "stream",
     "text": [
      "Processing rows:  19%|█▊        | 56/300 [00:19<01:13,  3.30it/s]"
     ]
    },
    {
     "name": "stdout",
     "output_type": "stream",
     "text": [
      "Status code: 200\n",
      "Status code: 200\n"
     ]
    },
    {
     "name": "stderr",
     "output_type": "stream",
     "text": [
      "Processing rows:  19%|█▉        | 57/300 [00:19<01:14,  3.27it/s]"
     ]
    },
    {
     "name": "stdout",
     "output_type": "stream",
     "text": [
      "Status code: 200\n",
      "Status code: 200\n"
     ]
    },
    {
     "name": "stderr",
     "output_type": "stream",
     "text": [
      "Processing rows:  19%|█▉        | 58/300 [00:19<01:13,  3.31it/s]"
     ]
    },
    {
     "name": "stdout",
     "output_type": "stream",
     "text": [
      "Status code: 200\n"
     ]
    },
    {
     "name": "stderr",
     "output_type": "stream",
     "text": [
      "Processing rows:  20%|█▉        | 59/300 [00:20<01:41,  2.37it/s]"
     ]
    },
    {
     "name": "stdout",
     "output_type": "stream",
     "text": [
      "Status code: 200\n",
      "Status code: 200\n"
     ]
    },
    {
     "name": "stderr",
     "output_type": "stream",
     "text": [
      "Processing rows:  20%|██        | 60/300 [00:20<01:36,  2.49it/s]"
     ]
    },
    {
     "name": "stdout",
     "output_type": "stream",
     "text": [
      "Status code: 200\n",
      "Status code: 200\n"
     ]
    },
    {
     "name": "stderr",
     "output_type": "stream",
     "text": [
      "Processing rows:  20%|██        | 61/300 [00:21<01:30,  2.63it/s]"
     ]
    },
    {
     "name": "stdout",
     "output_type": "stream",
     "text": [
      "Status code: 200\n",
      "Status code: 200\n"
     ]
    },
    {
     "name": "stderr",
     "output_type": "stream",
     "text": [
      "Processing rows:  21%|██        | 62/300 [00:21<01:28,  2.70it/s]"
     ]
    },
    {
     "name": "stdout",
     "output_type": "stream",
     "text": [
      "Status code: 200\n",
      "Status code: 200\n"
     ]
    },
    {
     "name": "stderr",
     "output_type": "stream",
     "text": [
      "Processing rows:  21%|██        | 63/300 [00:21<01:22,  2.88it/s]"
     ]
    },
    {
     "name": "stdout",
     "output_type": "stream",
     "text": [
      "Status code: 200\n",
      "Status code: 200\n"
     ]
    },
    {
     "name": "stderr",
     "output_type": "stream",
     "text": [
      "Processing rows:  21%|██▏       | 64/300 [00:22<01:14,  3.16it/s]"
     ]
    },
    {
     "name": "stdout",
     "output_type": "stream",
     "text": [
      "Status code: 200\n",
      "Status code: 200\n"
     ]
    },
    {
     "name": "stderr",
     "output_type": "stream",
     "text": [
      "Processing rows:  22%|██▏       | 65/300 [00:22<01:13,  3.20it/s]"
     ]
    },
    {
     "name": "stdout",
     "output_type": "stream",
     "text": [
      "Status code: 200\n",
      "Status code: 200\n"
     ]
    },
    {
     "name": "stderr",
     "output_type": "stream",
     "text": [
      "Processing rows:  22%|██▏       | 66/300 [00:22<01:11,  3.25it/s]"
     ]
    },
    {
     "name": "stdout",
     "output_type": "stream",
     "text": [
      "Status code: 200\n",
      "Status code: 200\n"
     ]
    },
    {
     "name": "stderr",
     "output_type": "stream",
     "text": [
      "Processing rows:  22%|██▏       | 67/300 [00:23<01:09,  3.35it/s]"
     ]
    },
    {
     "name": "stdout",
     "output_type": "stream",
     "text": [
      "Status code: 200\n",
      "Status code: 200\n"
     ]
    },
    {
     "name": "stderr",
     "output_type": "stream",
     "text": [
      "Processing rows:  23%|██▎       | 68/300 [00:23<01:10,  3.29it/s]"
     ]
    },
    {
     "name": "stdout",
     "output_type": "stream",
     "text": [
      "Status code: 200\n",
      "Status code: 200\n"
     ]
    },
    {
     "name": "stderr",
     "output_type": "stream",
     "text": [
      "Processing rows:  23%|██▎       | 69/300 [00:23<01:13,  3.12it/s]"
     ]
    },
    {
     "name": "stdout",
     "output_type": "stream",
     "text": [
      "Status code: 200\n",
      "Status code: 200\n"
     ]
    },
    {
     "name": "stderr",
     "output_type": "stream",
     "text": [
      "Processing rows:  23%|██▎       | 70/300 [00:24<01:14,  3.08it/s]"
     ]
    },
    {
     "name": "stdout",
     "output_type": "stream",
     "text": [
      "Status code: 200\n",
      "Status code: 200\n"
     ]
    },
    {
     "name": "stderr",
     "output_type": "stream",
     "text": [
      "Processing rows:  24%|██▎       | 71/300 [00:24<01:15,  3.02it/s]"
     ]
    },
    {
     "name": "stdout",
     "output_type": "stream",
     "text": [
      "Status code: 200\n",
      "Status code: 200\n"
     ]
    },
    {
     "name": "stderr",
     "output_type": "stream",
     "text": [
      "Processing rows:  24%|██▍       | 72/300 [00:24<01:13,  3.10it/s]"
     ]
    },
    {
     "name": "stdout",
     "output_type": "stream",
     "text": [
      "Status code: 200\n",
      "Status code: 200\n"
     ]
    },
    {
     "name": "stderr",
     "output_type": "stream",
     "text": [
      "Processing rows:  24%|██▍       | 73/300 [00:25<01:12,  3.15it/s]"
     ]
    },
    {
     "name": "stdout",
     "output_type": "stream",
     "text": [
      "Status code: 200\n",
      "Status code: 200\n"
     ]
    },
    {
     "name": "stderr",
     "output_type": "stream",
     "text": [
      "Processing rows:  25%|██▍       | 74/300 [00:25<01:11,  3.16it/s]"
     ]
    },
    {
     "name": "stdout",
     "output_type": "stream",
     "text": [
      "Status code: 200\n",
      "Status code: 200\n"
     ]
    },
    {
     "name": "stderr",
     "output_type": "stream",
     "text": [
      "Processing rows:  25%|██▌       | 75/300 [00:25<01:10,  3.19it/s]"
     ]
    },
    {
     "name": "stdout",
     "output_type": "stream",
     "text": [
      "Status code: 404\n",
      "Status code: 200\n"
     ]
    },
    {
     "name": "stderr",
     "output_type": "stream",
     "text": [
      "Processing rows:  25%|██▌       | 76/300 [00:26<01:12,  3.09it/s]"
     ]
    },
    {
     "name": "stdout",
     "output_type": "stream",
     "text": [
      "Status code: 200\n",
      "Status code: 200\n"
     ]
    },
    {
     "name": "stderr",
     "output_type": "stream",
     "text": [
      "Processing rows:  26%|██▌       | 77/300 [00:26<01:17,  2.88it/s]"
     ]
    },
    {
     "name": "stdout",
     "output_type": "stream",
     "text": [
      "Status code: 200\n",
      "Status code: 200\n"
     ]
    },
    {
     "name": "stderr",
     "output_type": "stream",
     "text": [
      "Processing rows:  26%|██▌       | 78/300 [00:26<01:11,  3.09it/s]"
     ]
    },
    {
     "name": "stdout",
     "output_type": "stream",
     "text": [
      "Status code: 200\n",
      "Status code: 200\n"
     ]
    },
    {
     "name": "stderr",
     "output_type": "stream",
     "text": [
      "Processing rows:  26%|██▋       | 79/300 [00:27<01:13,  3.00it/s]"
     ]
    },
    {
     "name": "stdout",
     "output_type": "stream",
     "text": [
      "Status code: 200\n",
      "Status code: 200\n"
     ]
    },
    {
     "name": "stderr",
     "output_type": "stream",
     "text": [
      "Processing rows:  27%|██▋       | 80/300 [00:27<01:09,  3.16it/s]"
     ]
    },
    {
     "name": "stdout",
     "output_type": "stream",
     "text": [
      "Status code: 404\n",
      "Status code: 200\n"
     ]
    },
    {
     "name": "stderr",
     "output_type": "stream",
     "text": [
      "Processing rows:  27%|██▋       | 81/300 [00:27<01:13,  3.00it/s]"
     ]
    },
    {
     "name": "stdout",
     "output_type": "stream",
     "text": [
      "Status code: 200\n",
      "Status code: 200\n"
     ]
    },
    {
     "name": "stderr",
     "output_type": "stream",
     "text": [
      "Processing rows:  27%|██▋       | 82/300 [00:27<01:10,  3.10it/s]"
     ]
    },
    {
     "name": "stdout",
     "output_type": "stream",
     "text": [
      "Status code: 404\n",
      "Status code: 200\n"
     ]
    },
    {
     "name": "stderr",
     "output_type": "stream",
     "text": [
      "Processing rows:  28%|██▊       | 83/300 [00:28<01:10,  3.09it/s]"
     ]
    },
    {
     "name": "stdout",
     "output_type": "stream",
     "text": [
      "Status code: 200\n",
      "Status code: 200\n"
     ]
    },
    {
     "name": "stderr",
     "output_type": "stream",
     "text": [
      "Processing rows:  28%|██▊       | 84/300 [00:28<01:14,  2.91it/s]"
     ]
    },
    {
     "name": "stdout",
     "output_type": "stream",
     "text": [
      "Status code: 200\n",
      "Status code: 200\n"
     ]
    },
    {
     "name": "stderr",
     "output_type": "stream",
     "text": [
      "Processing rows:  28%|██▊       | 85/300 [00:28<01:11,  3.00it/s]"
     ]
    },
    {
     "name": "stdout",
     "output_type": "stream",
     "text": [
      "Status code: 404\n",
      "Status code: 200\n"
     ]
    },
    {
     "name": "stderr",
     "output_type": "stream",
     "text": [
      "Processing rows:  29%|██▊       | 86/300 [00:29<01:12,  2.95it/s]"
     ]
    },
    {
     "name": "stdout",
     "output_type": "stream",
     "text": [
      "Status code: 200\n",
      "Status code: 200\n"
     ]
    },
    {
     "name": "stderr",
     "output_type": "stream",
     "text": [
      "Processing rows:  29%|██▉       | 87/300 [00:29<01:08,  3.09it/s]"
     ]
    },
    {
     "name": "stdout",
     "output_type": "stream",
     "text": [
      "Status code: 200\n",
      "Status code: 200\n"
     ]
    },
    {
     "name": "stderr",
     "output_type": "stream",
     "text": [
      "Processing rows:  29%|██▉       | 88/300 [00:29<01:07,  3.14it/s]"
     ]
    },
    {
     "name": "stdout",
     "output_type": "stream",
     "text": [
      "Status code: 200\n",
      "Status code: 200\n"
     ]
    },
    {
     "name": "stderr",
     "output_type": "stream",
     "text": [
      "Processing rows:  30%|██▉       | 89/300 [00:30<01:08,  3.06it/s]"
     ]
    },
    {
     "name": "stdout",
     "output_type": "stream",
     "text": [
      "Status code: 200\n",
      "Status code: 200\n"
     ]
    },
    {
     "name": "stderr",
     "output_type": "stream",
     "text": [
      "Processing rows:  30%|███       | 90/300 [00:30<01:05,  3.20it/s]"
     ]
    },
    {
     "name": "stdout",
     "output_type": "stream",
     "text": [
      "Status code: 200\n",
      "Status code: 200\n"
     ]
    },
    {
     "name": "stderr",
     "output_type": "stream",
     "text": [
      "Processing rows:  30%|███       | 91/300 [00:30<01:05,  3.19it/s]"
     ]
    },
    {
     "name": "stdout",
     "output_type": "stream",
     "text": [
      "Status code: 200\n",
      "Status code: 200\n"
     ]
    },
    {
     "name": "stderr",
     "output_type": "stream",
     "text": [
      "Processing rows:  31%|███       | 92/300 [00:31<01:06,  3.12it/s]"
     ]
    },
    {
     "name": "stdout",
     "output_type": "stream",
     "text": [
      "Status code: 200\n",
      "Status code: 200\n"
     ]
    },
    {
     "name": "stderr",
     "output_type": "stream",
     "text": [
      "Processing rows:  31%|███       | 93/300 [00:31<01:07,  3.05it/s]"
     ]
    },
    {
     "name": "stdout",
     "output_type": "stream",
     "text": [
      "Status code: 200\n",
      "Status code: 200\n"
     ]
    },
    {
     "name": "stderr",
     "output_type": "stream",
     "text": [
      "Processing rows:  31%|███▏      | 94/300 [00:31<01:05,  3.13it/s]"
     ]
    },
    {
     "name": "stdout",
     "output_type": "stream",
     "text": [
      "Status code: 200\n",
      "Status code: 200\n"
     ]
    },
    {
     "name": "stderr",
     "output_type": "stream",
     "text": [
      "Processing rows:  32%|███▏      | 95/300 [00:32<01:06,  3.07it/s]"
     ]
    },
    {
     "name": "stdout",
     "output_type": "stream",
     "text": [
      "Status code: 200\n",
      "Status code: 200\n"
     ]
    },
    {
     "name": "stderr",
     "output_type": "stream",
     "text": [
      "Processing rows:  32%|███▏      | 96/300 [00:32<01:08,  2.98it/s]"
     ]
    },
    {
     "name": "stdout",
     "output_type": "stream",
     "text": [
      "Status code: 200\n",
      "Status code: 200\n"
     ]
    },
    {
     "name": "stderr",
     "output_type": "stream",
     "text": [
      "Processing rows:  32%|███▏      | 97/300 [00:32<01:06,  3.05it/s]"
     ]
    },
    {
     "name": "stdout",
     "output_type": "stream",
     "text": [
      "Status code: 200\n",
      "Status code: 200\n"
     ]
    },
    {
     "name": "stderr",
     "output_type": "stream",
     "text": [
      "Processing rows:  33%|███▎      | 98/300 [00:33<01:05,  3.09it/s]"
     ]
    },
    {
     "name": "stdout",
     "output_type": "stream",
     "text": [
      "Status code: 200\n",
      "Status code: 200\n"
     ]
    },
    {
     "name": "stderr",
     "output_type": "stream",
     "text": [
      "Processing rows:  33%|███▎      | 99/300 [00:33<01:05,  3.05it/s]"
     ]
    },
    {
     "name": "stdout",
     "output_type": "stream",
     "text": [
      "Status code: 200\n",
      "Status code: 200\n"
     ]
    },
    {
     "name": "stderr",
     "output_type": "stream",
     "text": [
      "Processing rows:  33%|███▎      | 100/300 [00:33<01:02,  3.22it/s]"
     ]
    },
    {
     "name": "stdout",
     "output_type": "stream",
     "text": [
      "Status code: 200\n",
      "Status code: 200\n"
     ]
    },
    {
     "name": "stderr",
     "output_type": "stream",
     "text": [
      "Processing rows:  34%|███▎      | 101/300 [00:34<01:05,  3.05it/s]"
     ]
    },
    {
     "name": "stdout",
     "output_type": "stream",
     "text": [
      "Status code: 200\n",
      "Status code: 200\n"
     ]
    },
    {
     "name": "stderr",
     "output_type": "stream",
     "text": [
      "Processing rows:  34%|███▍      | 102/300 [00:34<01:03,  3.12it/s]"
     ]
    },
    {
     "name": "stdout",
     "output_type": "stream",
     "text": [
      "Status code: 200\n",
      "Status code: 200\n"
     ]
    },
    {
     "name": "stderr",
     "output_type": "stream",
     "text": [
      "Processing rows:  34%|███▍      | 103/300 [00:34<01:03,  3.08it/s]"
     ]
    },
    {
     "name": "stdout",
     "output_type": "stream",
     "text": [
      "Status code: 404\n",
      "Status code: 200\n"
     ]
    },
    {
     "name": "stderr",
     "output_type": "stream",
     "text": [
      "Processing rows:  35%|███▍      | 104/300 [00:35<01:02,  3.14it/s]"
     ]
    },
    {
     "name": "stdout",
     "output_type": "stream",
     "text": [
      "Status code: 200\n",
      "Status code: 200\n"
     ]
    },
    {
     "name": "stderr",
     "output_type": "stream",
     "text": [
      "Processing rows:  35%|███▌      | 105/300 [00:35<01:02,  3.11it/s]"
     ]
    },
    {
     "name": "stdout",
     "output_type": "stream",
     "text": [
      "Status code: 200\n",
      "Status code: 200\n"
     ]
    },
    {
     "name": "stderr",
     "output_type": "stream",
     "text": [
      "Processing rows:  35%|███▌      | 106/300 [00:35<01:02,  3.11it/s]"
     ]
    },
    {
     "name": "stdout",
     "output_type": "stream",
     "text": [
      "Status code: 200\n",
      "Status code: 200\n"
     ]
    },
    {
     "name": "stderr",
     "output_type": "stream",
     "text": [
      "Processing rows:  36%|███▌      | 107/300 [00:36<01:07,  2.84it/s]"
     ]
    },
    {
     "name": "stdout",
     "output_type": "stream",
     "text": [
      "Status code: 200\n",
      "Status code: 200\n"
     ]
    },
    {
     "name": "stderr",
     "output_type": "stream",
     "text": [
      "Processing rows:  36%|███▌      | 108/300 [00:36<01:10,  2.71it/s]"
     ]
    },
    {
     "name": "stdout",
     "output_type": "stream",
     "text": [
      "Status code: 200\n",
      "Status code: 200\n"
     ]
    },
    {
     "name": "stderr",
     "output_type": "stream",
     "text": [
      "Processing rows:  36%|███▋      | 109/300 [00:36<01:08,  2.80it/s]"
     ]
    },
    {
     "name": "stdout",
     "output_type": "stream",
     "text": [
      "Status code: 200\n",
      "Status code: 200\n"
     ]
    },
    {
     "name": "stderr",
     "output_type": "stream",
     "text": [
      "Processing rows:  37%|███▋      | 110/300 [00:37<01:05,  2.88it/s]"
     ]
    },
    {
     "name": "stdout",
     "output_type": "stream",
     "text": [
      "Status code: 200\n",
      "Status code: 200\n"
     ]
    },
    {
     "name": "stderr",
     "output_type": "stream",
     "text": [
      "Processing rows:  37%|███▋      | 111/300 [00:37<01:03,  2.96it/s]"
     ]
    },
    {
     "name": "stdout",
     "output_type": "stream",
     "text": [
      "Status code: 200\n",
      "Status code: 200\n"
     ]
    },
    {
     "name": "stderr",
     "output_type": "stream",
     "text": [
      "Processing rows:  37%|███▋      | 112/300 [00:37<00:59,  3.14it/s]"
     ]
    },
    {
     "name": "stdout",
     "output_type": "stream",
     "text": [
      "Status code: 200\n",
      "Status code: 200\n"
     ]
    },
    {
     "name": "stderr",
     "output_type": "stream",
     "text": [
      "Processing rows:  38%|███▊      | 113/300 [00:38<00:58,  3.20it/s]"
     ]
    },
    {
     "name": "stdout",
     "output_type": "stream",
     "text": [
      "Status code: 200\n",
      "Status code: 200\n"
     ]
    },
    {
     "name": "stderr",
     "output_type": "stream",
     "text": [
      "Processing rows:  38%|███▊      | 114/300 [00:38<00:58,  3.20it/s]"
     ]
    },
    {
     "name": "stdout",
     "output_type": "stream",
     "text": [
      "Status code: 200\n",
      "Status code: 200\n"
     ]
    },
    {
     "name": "stderr",
     "output_type": "stream",
     "text": [
      "Processing rows:  38%|███▊      | 115/300 [00:38<00:59,  3.12it/s]"
     ]
    },
    {
     "name": "stdout",
     "output_type": "stream",
     "text": [
      "Status code: 200\n",
      "Status code: 200\n"
     ]
    },
    {
     "name": "stderr",
     "output_type": "stream",
     "text": [
      "Processing rows:  39%|███▊      | 116/300 [00:39<00:59,  3.10it/s]"
     ]
    },
    {
     "name": "stdout",
     "output_type": "stream",
     "text": [
      "Status code: 200\n",
      "Status code: 200\n"
     ]
    },
    {
     "name": "stderr",
     "output_type": "stream",
     "text": [
      "Processing rows:  39%|███▉      | 117/300 [00:39<00:58,  3.14it/s]"
     ]
    },
    {
     "name": "stdout",
     "output_type": "stream",
     "text": [
      "Status code: 200\n",
      "Status code: 200\n"
     ]
    },
    {
     "name": "stderr",
     "output_type": "stream",
     "text": [
      "Processing rows:  39%|███▉      | 118/300 [00:39<00:56,  3.20it/s]"
     ]
    },
    {
     "name": "stdout",
     "output_type": "stream",
     "text": [
      "Status code: 200\n",
      "Status code: 200\n"
     ]
    },
    {
     "name": "stderr",
     "output_type": "stream",
     "text": [
      "Processing rows:  40%|███▉      | 119/300 [00:40<00:56,  3.19it/s]"
     ]
    },
    {
     "name": "stdout",
     "output_type": "stream",
     "text": [
      "Status code: 200\n",
      "Status code: 200\n"
     ]
    },
    {
     "name": "stderr",
     "output_type": "stream",
     "text": [
      "Processing rows:  40%|████      | 120/300 [00:40<00:57,  3.11it/s]"
     ]
    },
    {
     "name": "stdout",
     "output_type": "stream",
     "text": [
      "Status code: 200\n",
      "Status code: 200\n"
     ]
    },
    {
     "name": "stderr",
     "output_type": "stream",
     "text": [
      "Processing rows:  40%|████      | 121/300 [00:40<00:56,  3.17it/s]"
     ]
    },
    {
     "name": "stdout",
     "output_type": "stream",
     "text": [
      "Status code: 200\n",
      "Status code: 200\n"
     ]
    },
    {
     "name": "stderr",
     "output_type": "stream",
     "text": [
      "Processing rows:  41%|████      | 122/300 [00:40<00:56,  3.16it/s]"
     ]
    },
    {
     "name": "stdout",
     "output_type": "stream",
     "text": [
      "Status code: 200\n",
      "Status code: 200\n"
     ]
    },
    {
     "name": "stderr",
     "output_type": "stream",
     "text": [
      "Processing rows:  41%|████      | 123/300 [00:41<00:52,  3.34it/s]"
     ]
    },
    {
     "name": "stdout",
     "output_type": "stream",
     "text": [
      "Status code: 200\n",
      "Status code: 200\n"
     ]
    },
    {
     "name": "stderr",
     "output_type": "stream",
     "text": [
      "Processing rows:  41%|████▏     | 124/300 [00:41<00:54,  3.25it/s]"
     ]
    },
    {
     "name": "stdout",
     "output_type": "stream",
     "text": [
      "Status code: 200\n",
      "Status code: 200\n"
     ]
    },
    {
     "name": "stderr",
     "output_type": "stream",
     "text": [
      "Processing rows:  42%|████▏     | 125/300 [00:41<00:54,  3.23it/s]"
     ]
    },
    {
     "name": "stdout",
     "output_type": "stream",
     "text": [
      "Status code: 200\n",
      "Status code: 200\n"
     ]
    },
    {
     "name": "stderr",
     "output_type": "stream",
     "text": [
      "Processing rows:  42%|████▏     | 126/300 [00:42<00:52,  3.31it/s]"
     ]
    },
    {
     "name": "stdout",
     "output_type": "stream",
     "text": [
      "Status code: 200\n",
      "Status code: 200\n"
     ]
    },
    {
     "name": "stderr",
     "output_type": "stream",
     "text": [
      "Processing rows:  42%|████▏     | 127/300 [00:42<00:49,  3.50it/s]"
     ]
    },
    {
     "name": "stdout",
     "output_type": "stream",
     "text": [
      "Status code: 404\n",
      "Status code: 200\n"
     ]
    },
    {
     "name": "stderr",
     "output_type": "stream",
     "text": [
      "Processing rows:  43%|████▎     | 128/300 [00:42<00:49,  3.47it/s]"
     ]
    },
    {
     "name": "stdout",
     "output_type": "stream",
     "text": [
      "Status code: 200\n",
      "Status code: 200\n"
     ]
    },
    {
     "name": "stderr",
     "output_type": "stream",
     "text": [
      "Processing rows:  43%|████▎     | 129/300 [00:43<00:49,  3.48it/s]"
     ]
    },
    {
     "name": "stdout",
     "output_type": "stream",
     "text": [
      "Status code: 404\n",
      "Status code: 200\n"
     ]
    },
    {
     "name": "stderr",
     "output_type": "stream",
     "text": [
      "Processing rows:  43%|████▎     | 130/300 [00:43<00:50,  3.36it/s]"
     ]
    },
    {
     "name": "stdout",
     "output_type": "stream",
     "text": [
      "Status code: 200\n",
      "Status code: 200\n"
     ]
    },
    {
     "name": "stderr",
     "output_type": "stream",
     "text": [
      "Processing rows:  44%|████▎     | 131/300 [00:43<00:48,  3.47it/s]"
     ]
    },
    {
     "name": "stdout",
     "output_type": "stream",
     "text": [
      "Status code: 200\n",
      "Status code: 200\n"
     ]
    },
    {
     "name": "stderr",
     "output_type": "stream",
     "text": [
      "Processing rows:  44%|████▍     | 132/300 [00:43<00:47,  3.51it/s]"
     ]
    },
    {
     "name": "stdout",
     "output_type": "stream",
     "text": [
      "Status code: 200\n",
      "Status code: 200\n"
     ]
    },
    {
     "name": "stderr",
     "output_type": "stream",
     "text": [
      "Processing rows:  44%|████▍     | 133/300 [00:44<00:44,  3.74it/s]"
     ]
    },
    {
     "name": "stdout",
     "output_type": "stream",
     "text": [
      "Status code: 404\n",
      "Status code: 200\n"
     ]
    },
    {
     "name": "stderr",
     "output_type": "stream",
     "text": [
      "Processing rows:  45%|████▍     | 134/300 [00:44<00:46,  3.60it/s]"
     ]
    },
    {
     "name": "stdout",
     "output_type": "stream",
     "text": [
      "Status code: 200\n",
      "Status code: 200\n"
     ]
    },
    {
     "name": "stderr",
     "output_type": "stream",
     "text": [
      "Processing rows:  45%|████▌     | 135/300 [00:44<00:47,  3.46it/s]"
     ]
    },
    {
     "name": "stdout",
     "output_type": "stream",
     "text": [
      "Status code: 200\n",
      "Status code: 200\n"
     ]
    },
    {
     "name": "stderr",
     "output_type": "stream",
     "text": [
      "Processing rows:  45%|████▌     | 136/300 [00:45<00:48,  3.42it/s]"
     ]
    },
    {
     "name": "stdout",
     "output_type": "stream",
     "text": [
      "Status code: 200\n",
      "Status code: 200\n"
     ]
    },
    {
     "name": "stderr",
     "output_type": "stream",
     "text": [
      "Processing rows:  46%|████▌     | 137/300 [00:45<00:47,  3.43it/s]"
     ]
    },
    {
     "name": "stdout",
     "output_type": "stream",
     "text": [
      "Status code: 200\n",
      "Status code: 200\n"
     ]
    },
    {
     "name": "stderr",
     "output_type": "stream",
     "text": [
      "Processing rows:  46%|████▌     | 138/300 [00:45<00:46,  3.48it/s]"
     ]
    },
    {
     "name": "stdout",
     "output_type": "stream",
     "text": [
      "Status code: 200\n",
      "Status code: 200\n"
     ]
    },
    {
     "name": "stderr",
     "output_type": "stream",
     "text": [
      "Processing rows:  46%|████▋     | 139/300 [00:45<00:45,  3.56it/s]"
     ]
    },
    {
     "name": "stdout",
     "output_type": "stream",
     "text": [
      "Status code: 200\n",
      "Status code: 200\n"
     ]
    },
    {
     "name": "stderr",
     "output_type": "stream",
     "text": [
      "Processing rows:  47%|████▋     | 140/300 [00:46<00:44,  3.56it/s]"
     ]
    },
    {
     "name": "stdout",
     "output_type": "stream",
     "text": [
      "Status code: 200\n",
      "Status code: 200\n"
     ]
    },
    {
     "name": "stderr",
     "output_type": "stream",
     "text": [
      "Processing rows:  47%|████▋     | 141/300 [00:46<00:47,  3.33it/s]"
     ]
    },
    {
     "name": "stdout",
     "output_type": "stream",
     "text": [
      "Status code: 200\n",
      "Status code: 200\n"
     ]
    },
    {
     "name": "stderr",
     "output_type": "stream",
     "text": [
      "Processing rows:  47%|████▋     | 142/300 [00:46<00:45,  3.49it/s]"
     ]
    },
    {
     "name": "stdout",
     "output_type": "stream",
     "text": [
      "Status code: 200\n",
      "Status code: 200\n"
     ]
    },
    {
     "name": "stderr",
     "output_type": "stream",
     "text": [
      "Processing rows:  48%|████▊     | 143/300 [00:47<00:47,  3.28it/s]"
     ]
    },
    {
     "name": "stdout",
     "output_type": "stream",
     "text": [
      "Status code: 200\n",
      "Status code: 200\n"
     ]
    },
    {
     "name": "stderr",
     "output_type": "stream",
     "text": [
      "Processing rows:  48%|████▊     | 144/300 [00:47<00:48,  3.19it/s]"
     ]
    },
    {
     "name": "stdout",
     "output_type": "stream",
     "text": [
      "Status code: 200\n",
      "Status code: 200\n"
     ]
    },
    {
     "name": "stderr",
     "output_type": "stream",
     "text": [
      "Processing rows:  48%|████▊     | 145/300 [00:47<00:48,  3.20it/s]"
     ]
    },
    {
     "name": "stdout",
     "output_type": "stream",
     "text": [
      "Status code: 200\n",
      "Status code: 200\n"
     ]
    },
    {
     "name": "stderr",
     "output_type": "stream",
     "text": [
      "Processing rows:  49%|████▊     | 146/300 [00:48<00:49,  3.10it/s]"
     ]
    },
    {
     "name": "stdout",
     "output_type": "stream",
     "text": [
      "Status code: 200\n",
      "Status code: 200\n"
     ]
    },
    {
     "name": "stderr",
     "output_type": "stream",
     "text": [
      "Processing rows:  49%|████▉     | 147/300 [00:48<00:47,  3.22it/s]"
     ]
    },
    {
     "name": "stdout",
     "output_type": "stream",
     "text": [
      "Status code: 200\n",
      "Status code: 200\n"
     ]
    },
    {
     "name": "stderr",
     "output_type": "stream",
     "text": [
      "Processing rows:  49%|████▉     | 148/300 [00:48<00:48,  3.12it/s]"
     ]
    },
    {
     "name": "stdout",
     "output_type": "stream",
     "text": [
      "Status code: 200\n",
      "Status code: 200\n"
     ]
    },
    {
     "name": "stderr",
     "output_type": "stream",
     "text": [
      "Processing rows:  50%|████▉     | 149/300 [00:49<00:48,  3.11it/s]"
     ]
    },
    {
     "name": "stdout",
     "output_type": "stream",
     "text": [
      "Status code: 200\n",
      "Status code: 200\n"
     ]
    },
    {
     "name": "stderr",
     "output_type": "stream",
     "text": [
      "Processing rows:  50%|█████     | 150/300 [00:49<00:47,  3.17it/s]"
     ]
    },
    {
     "name": "stdout",
     "output_type": "stream",
     "text": [
      "Status code: 404\n",
      "Status code: 200\n"
     ]
    },
    {
     "name": "stderr",
     "output_type": "stream",
     "text": [
      "Processing rows:  50%|█████     | 151/300 [00:49<00:48,  3.09it/s]"
     ]
    },
    {
     "name": "stdout",
     "output_type": "stream",
     "text": [
      "Status code: 200\n",
      "Status code: 200\n"
     ]
    },
    {
     "name": "stderr",
     "output_type": "stream",
     "text": [
      "Processing rows:  51%|█████     | 152/300 [00:50<00:50,  2.95it/s]"
     ]
    },
    {
     "name": "stdout",
     "output_type": "stream",
     "text": [
      "Status code: 200\n",
      "Status code: 200\n"
     ]
    },
    {
     "name": "stderr",
     "output_type": "stream",
     "text": [
      "Processing rows:  51%|█████     | 153/300 [00:50<00:47,  3.10it/s]"
     ]
    },
    {
     "name": "stdout",
     "output_type": "stream",
     "text": [
      "Status code: 200\n",
      "Status code: 200\n"
     ]
    },
    {
     "name": "stderr",
     "output_type": "stream",
     "text": [
      "Processing rows:  51%|█████▏    | 154/300 [00:50<00:48,  3.01it/s]"
     ]
    },
    {
     "name": "stdout",
     "output_type": "stream",
     "text": [
      "Status code: 200\n",
      "Status code: 200\n"
     ]
    },
    {
     "name": "stderr",
     "output_type": "stream",
     "text": [
      "Processing rows:  52%|█████▏    | 155/300 [00:51<00:47,  3.04it/s]"
     ]
    },
    {
     "name": "stdout",
     "output_type": "stream",
     "text": [
      "Status code: 200\n",
      "Status code: 200\n"
     ]
    },
    {
     "name": "stderr",
     "output_type": "stream",
     "text": [
      "Processing rows:  52%|█████▏    | 156/300 [00:51<00:48,  3.00it/s]"
     ]
    },
    {
     "name": "stdout",
     "output_type": "stream",
     "text": [
      "Status code: 200\n",
      "Status code: 200\n"
     ]
    },
    {
     "name": "stderr",
     "output_type": "stream",
     "text": [
      "Processing rows:  52%|█████▏    | 157/300 [00:51<00:45,  3.13it/s]"
     ]
    },
    {
     "name": "stdout",
     "output_type": "stream",
     "text": [
      "Status code: 200\n",
      "Status code: 200\n"
     ]
    },
    {
     "name": "stderr",
     "output_type": "stream",
     "text": [
      "Processing rows:  53%|█████▎    | 158/300 [00:51<00:44,  3.22it/s]"
     ]
    },
    {
     "name": "stdout",
     "output_type": "stream",
     "text": [
      "Status code: 200\n",
      "Status code: 200\n"
     ]
    },
    {
     "name": "stderr",
     "output_type": "stream",
     "text": [
      "Processing rows:  53%|█████▎    | 159/300 [00:52<00:42,  3.30it/s]"
     ]
    },
    {
     "name": "stdout",
     "output_type": "stream",
     "text": [
      "Status code: 200\n",
      "Status code: 200\n"
     ]
    },
    {
     "name": "stderr",
     "output_type": "stream",
     "text": [
      "Processing rows:  53%|█████▎    | 160/300 [00:52<00:42,  3.30it/s]"
     ]
    },
    {
     "name": "stdout",
     "output_type": "stream",
     "text": [
      "Status code: 200\n",
      "Status code: 200\n"
     ]
    },
    {
     "name": "stderr",
     "output_type": "stream",
     "text": [
      "Processing rows:  54%|█████▎    | 161/300 [00:52<00:43,  3.19it/s]"
     ]
    },
    {
     "name": "stdout",
     "output_type": "stream",
     "text": [
      "Status code: 200\n",
      "Status code: 200\n"
     ]
    },
    {
     "name": "stderr",
     "output_type": "stream",
     "text": [
      "Processing rows:  54%|█████▍    | 162/300 [00:53<00:40,  3.42it/s]"
     ]
    },
    {
     "name": "stdout",
     "output_type": "stream",
     "text": [
      "Status code: 404\n",
      "Status code: 200\n"
     ]
    },
    {
     "name": "stderr",
     "output_type": "stream",
     "text": [
      "Processing rows:  54%|█████▍    | 163/300 [00:53<00:40,  3.34it/s]"
     ]
    },
    {
     "name": "stdout",
     "output_type": "stream",
     "text": [
      "Status code: 200\n",
      "Status code: 200\n"
     ]
    },
    {
     "name": "stderr",
     "output_type": "stream",
     "text": [
      "Processing rows:  55%|█████▍    | 164/300 [00:53<00:41,  3.29it/s]"
     ]
    },
    {
     "name": "stdout",
     "output_type": "stream",
     "text": [
      "Status code: 200\n",
      "Status code: 200\n"
     ]
    },
    {
     "name": "stderr",
     "output_type": "stream",
     "text": [
      "Processing rows:  55%|█████▌    | 165/300 [00:54<00:40,  3.35it/s]"
     ]
    },
    {
     "name": "stdout",
     "output_type": "stream",
     "text": [
      "Status code: 200\n",
      "Status code: 200\n"
     ]
    },
    {
     "name": "stderr",
     "output_type": "stream",
     "text": [
      "Processing rows:  55%|█████▌    | 166/300 [00:54<00:39,  3.37it/s]"
     ]
    },
    {
     "name": "stdout",
     "output_type": "stream",
     "text": [
      "Status code: 200\n",
      "Status code: 200\n"
     ]
    },
    {
     "name": "stderr",
     "output_type": "stream",
     "text": [
      "Processing rows:  56%|█████▌    | 167/300 [00:54<00:38,  3.42it/s]"
     ]
    },
    {
     "name": "stdout",
     "output_type": "stream",
     "text": [
      "Status code: 200\n",
      "Status code: 200\n"
     ]
    },
    {
     "name": "stderr",
     "output_type": "stream",
     "text": [
      "Processing rows:  56%|█████▌    | 168/300 [00:54<00:39,  3.37it/s]"
     ]
    },
    {
     "name": "stdout",
     "output_type": "stream",
     "text": [
      "Status code: 200\n",
      "Status code: 200\n"
     ]
    },
    {
     "name": "stderr",
     "output_type": "stream",
     "text": [
      "Processing rows:  56%|█████▋    | 169/300 [00:55<00:40,  3.26it/s]"
     ]
    },
    {
     "name": "stdout",
     "output_type": "stream",
     "text": [
      "Status code: 200\n",
      "Status code: 200\n"
     ]
    },
    {
     "name": "stderr",
     "output_type": "stream",
     "text": [
      "Processing rows:  57%|█████▋    | 170/300 [00:55<00:38,  3.37it/s]"
     ]
    },
    {
     "name": "stdout",
     "output_type": "stream",
     "text": [
      "Status code: 200\n",
      "Status code: 200\n"
     ]
    },
    {
     "name": "stderr",
     "output_type": "stream",
     "text": [
      "Processing rows:  57%|█████▋    | 171/300 [00:55<00:39,  3.29it/s]"
     ]
    },
    {
     "name": "stdout",
     "output_type": "stream",
     "text": [
      "Status code: 200\n",
      "Status code: 200\n"
     ]
    },
    {
     "name": "stderr",
     "output_type": "stream",
     "text": [
      "Processing rows:  57%|█████▋    | 172/300 [00:56<00:41,  3.12it/s]"
     ]
    },
    {
     "name": "stdout",
     "output_type": "stream",
     "text": [
      "Status code: 200\n",
      "Status code: 200\n"
     ]
    },
    {
     "name": "stderr",
     "output_type": "stream",
     "text": [
      "Processing rows:  58%|█████▊    | 173/300 [00:56<00:40,  3.12it/s]"
     ]
    },
    {
     "name": "stdout",
     "output_type": "stream",
     "text": [
      "Status code: 200\n",
      "Status code: 200\n"
     ]
    },
    {
     "name": "stderr",
     "output_type": "stream",
     "text": [
      "Processing rows:  58%|█████▊    | 174/300 [00:56<00:40,  3.08it/s]"
     ]
    },
    {
     "name": "stdout",
     "output_type": "stream",
     "text": [
      "Status code: 200\n",
      "Status code: 200\n"
     ]
    },
    {
     "name": "stderr",
     "output_type": "stream",
     "text": [
      "Processing rows:  58%|█████▊    | 175/300 [00:57<00:41,  3.02it/s]"
     ]
    },
    {
     "name": "stdout",
     "output_type": "stream",
     "text": [
      "Status code: 200\n",
      "Status code: 200\n"
     ]
    },
    {
     "name": "stderr",
     "output_type": "stream",
     "text": [
      "Processing rows:  59%|█████▊    | 176/300 [00:57<00:40,  3.09it/s]"
     ]
    },
    {
     "name": "stdout",
     "output_type": "stream",
     "text": [
      "Status code: 200\n",
      "Status code: 200\n"
     ]
    },
    {
     "name": "stderr",
     "output_type": "stream",
     "text": [
      "Processing rows:  59%|█████▉    | 177/300 [00:57<00:40,  3.01it/s]"
     ]
    },
    {
     "name": "stdout",
     "output_type": "stream",
     "text": [
      "Status code: 200\n",
      "Status code: 200\n"
     ]
    },
    {
     "name": "stderr",
     "output_type": "stream",
     "text": [
      "Processing rows:  59%|█████▉    | 178/300 [00:58<00:39,  3.11it/s]"
     ]
    },
    {
     "name": "stdout",
     "output_type": "stream",
     "text": [
      "Status code: 404\n",
      "Status code: 200\n"
     ]
    },
    {
     "name": "stderr",
     "output_type": "stream",
     "text": [
      "Processing rows:  60%|█████▉    | 179/300 [00:58<00:36,  3.30it/s]"
     ]
    },
    {
     "name": "stdout",
     "output_type": "stream",
     "text": [
      "Status code: 200\n",
      "Status code: 200\n"
     ]
    },
    {
     "name": "stderr",
     "output_type": "stream",
     "text": [
      "Processing rows:  60%|██████    | 180/300 [00:58<00:36,  3.30it/s]"
     ]
    },
    {
     "name": "stdout",
     "output_type": "stream",
     "text": [
      "Status code: 200\n",
      "Status code: 200\n"
     ]
    },
    {
     "name": "stderr",
     "output_type": "stream",
     "text": [
      "Processing rows:  60%|██████    | 181/300 [00:59<00:38,  3.11it/s]"
     ]
    },
    {
     "name": "stdout",
     "output_type": "stream",
     "text": [
      "Status code: 200\n",
      "Status code: 200\n",
      "Status code: 200\n"
     ]
    },
    {
     "name": "stderr",
     "output_type": "stream",
     "text": [
      "Processing rows:  61%|██████    | 182/300 [00:59<00:43,  2.72it/s]"
     ]
    },
    {
     "name": "stdout",
     "output_type": "stream",
     "text": [
      "Status code: 200\n",
      "Status code: 404\n"
     ]
    },
    {
     "name": "stderr",
     "output_type": "stream",
     "text": [
      "Processing rows:  61%|██████    | 183/300 [00:59<00:40,  2.88it/s]"
     ]
    },
    {
     "name": "stdout",
     "output_type": "stream",
     "text": [
      "Status code: 200\n",
      "Status code: 200\n"
     ]
    },
    {
     "name": "stderr",
     "output_type": "stream",
     "text": [
      "Processing rows:  61%|██████▏   | 184/300 [01:00<00:39,  2.90it/s]"
     ]
    },
    {
     "name": "stdout",
     "output_type": "stream",
     "text": [
      "Status code: 200\n",
      "Status code: 200\n"
     ]
    },
    {
     "name": "stderr",
     "output_type": "stream",
     "text": [
      "Processing rows:  62%|██████▏   | 185/300 [01:00<00:40,  2.87it/s]"
     ]
    },
    {
     "name": "stdout",
     "output_type": "stream",
     "text": [
      "Status code: 200\n",
      "Status code: 200\n"
     ]
    },
    {
     "name": "stderr",
     "output_type": "stream",
     "text": [
      "Processing rows:  62%|██████▏   | 186/300 [01:00<00:38,  2.98it/s]"
     ]
    },
    {
     "name": "stdout",
     "output_type": "stream",
     "text": [
      "Status code: 200\n",
      "Status code: 404\n"
     ]
    },
    {
     "name": "stderr",
     "output_type": "stream",
     "text": [
      "Processing rows:  62%|██████▏   | 187/300 [01:01<00:36,  3.07it/s]"
     ]
    },
    {
     "name": "stdout",
     "output_type": "stream",
     "text": [
      "Status code: 200\n"
     ]
    },
    {
     "name": "stderr",
     "output_type": "stream",
     "text": [
      "Processing rows:  63%|██████▎   | 188/300 [01:01<00:38,  2.89it/s]"
     ]
    },
    {
     "name": "stdout",
     "output_type": "stream",
     "text": [
      "Status code: 200\n",
      "Status code: 200\n"
     ]
    },
    {
     "name": "stderr",
     "output_type": "stream",
     "text": [
      "Processing rows:  63%|██████▎   | 189/300 [01:01<00:38,  2.91it/s]"
     ]
    },
    {
     "name": "stdout",
     "output_type": "stream",
     "text": [
      "Status code: 200\n",
      "Status code: 200\n"
     ]
    },
    {
     "name": "stderr",
     "output_type": "stream",
     "text": [
      "Processing rows:  63%|██████▎   | 190/300 [01:02<00:36,  3.03it/s]"
     ]
    },
    {
     "name": "stdout",
     "output_type": "stream",
     "text": [
      "Status code: 200\n",
      "Status code: 200\n",
      "Status code: 404\n"
     ]
    },
    {
     "name": "stderr",
     "output_type": "stream",
     "text": [
      "Processing rows:  64%|██████▎   | 191/300 [01:02<00:37,  2.92it/s]"
     ]
    },
    {
     "name": "stdout",
     "output_type": "stream",
     "text": [
      "Status code: 200\n",
      "Status code: 200\n"
     ]
    },
    {
     "name": "stderr",
     "output_type": "stream",
     "text": [
      "Processing rows:  64%|██████▍   | 192/300 [01:02<00:35,  3.01it/s]"
     ]
    },
    {
     "name": "stdout",
     "output_type": "stream",
     "text": [
      "Status code: 200\n",
      "Status code: 404\n"
     ]
    },
    {
     "name": "stderr",
     "output_type": "stream",
     "text": [
      "Processing rows:  64%|██████▍   | 193/300 [01:03<00:35,  3.01it/s]"
     ]
    },
    {
     "name": "stdout",
     "output_type": "stream",
     "text": [
      "Status code: 200\n",
      "Status code: 200\n"
     ]
    },
    {
     "name": "stderr",
     "output_type": "stream",
     "text": [
      "Processing rows:  65%|██████▍   | 194/300 [01:03<00:35,  2.98it/s]"
     ]
    },
    {
     "name": "stdout",
     "output_type": "stream",
     "text": [
      "Status code: 200\n",
      "Status code: 200\n"
     ]
    },
    {
     "name": "stderr",
     "output_type": "stream",
     "text": [
      "Processing rows:  65%|██████▌   | 195/300 [01:03<00:33,  3.13it/s]"
     ]
    },
    {
     "name": "stdout",
     "output_type": "stream",
     "text": [
      "Status code: 200\n",
      "Status code: 200\n"
     ]
    },
    {
     "name": "stderr",
     "output_type": "stream",
     "text": [
      "Processing rows:  65%|██████▌   | 196/300 [01:04<00:32,  3.19it/s]"
     ]
    },
    {
     "name": "stdout",
     "output_type": "stream",
     "text": [
      "Status code: 200\n",
      "Status code: 200\n"
     ]
    },
    {
     "name": "stderr",
     "output_type": "stream",
     "text": [
      "Processing rows:  66%|██████▌   | 197/300 [01:04<00:33,  3.08it/s]"
     ]
    },
    {
     "name": "stdout",
     "output_type": "stream",
     "text": [
      "Status code: 200\n",
      "Status code: 200\n"
     ]
    },
    {
     "name": "stderr",
     "output_type": "stream",
     "text": [
      "Processing rows:  66%|██████▌   | 198/300 [01:04<00:33,  3.01it/s]"
     ]
    },
    {
     "name": "stdout",
     "output_type": "stream",
     "text": [
      "Status code: 200\n",
      "Status code: 200\n"
     ]
    },
    {
     "name": "stderr",
     "output_type": "stream",
     "text": [
      "Processing rows:  66%|██████▋   | 199/300 [01:05<00:34,  2.90it/s]"
     ]
    },
    {
     "name": "stdout",
     "output_type": "stream",
     "text": [
      "Status code: 200\n",
      "Status code: 200\n"
     ]
    },
    {
     "name": "stderr",
     "output_type": "stream",
     "text": [
      "Processing rows:  67%|██████▋   | 200/300 [01:05<00:34,  2.92it/s]"
     ]
    },
    {
     "name": "stdout",
     "output_type": "stream",
     "text": [
      "Status code: 200\n",
      "Status code: 200\n"
     ]
    },
    {
     "name": "stderr",
     "output_type": "stream",
     "text": [
      "Processing rows:  67%|██████▋   | 201/300 [01:05<00:31,  3.11it/s]"
     ]
    },
    {
     "name": "stdout",
     "output_type": "stream",
     "text": [
      "Status code: 200\n",
      "Status code: 200\n"
     ]
    },
    {
     "name": "stderr",
     "output_type": "stream",
     "text": [
      "Processing rows:  67%|██████▋   | 202/300 [01:06<00:31,  3.13it/s]"
     ]
    },
    {
     "name": "stdout",
     "output_type": "stream",
     "text": [
      "Status code: 200\n",
      "Status code: 200\n"
     ]
    },
    {
     "name": "stderr",
     "output_type": "stream",
     "text": [
      "Processing rows:  68%|██████▊   | 203/300 [01:06<00:29,  3.26it/s]"
     ]
    },
    {
     "name": "stdout",
     "output_type": "stream",
     "text": [
      "Status code: 200\n",
      "Status code: 200\n"
     ]
    },
    {
     "name": "stderr",
     "output_type": "stream",
     "text": [
      "Processing rows:  68%|██████▊   | 204/300 [01:06<00:29,  3.28it/s]"
     ]
    },
    {
     "name": "stdout",
     "output_type": "stream",
     "text": [
      "Status code: 200\n",
      "Status code: 200\n"
     ]
    },
    {
     "name": "stderr",
     "output_type": "stream",
     "text": [
      "Processing rows:  68%|██████▊   | 205/300 [01:06<00:29,  3.25it/s]"
     ]
    },
    {
     "name": "stdout",
     "output_type": "stream",
     "text": [
      "Status code: 200\n",
      "Status code: 200\n"
     ]
    },
    {
     "name": "stderr",
     "output_type": "stream",
     "text": [
      "Processing rows:  69%|██████▊   | 206/300 [01:07<00:28,  3.36it/s]"
     ]
    },
    {
     "name": "stdout",
     "output_type": "stream",
     "text": [
      "Status code: 200\n"
     ]
    },
    {
     "name": "stderr",
     "output_type": "stream",
     "text": [
      "Processing rows:  69%|██████▉   | 207/300 [01:07<00:29,  3.20it/s]"
     ]
    },
    {
     "name": "stdout",
     "output_type": "stream",
     "text": [
      "Status code: 200\n",
      "Status code: 200\n"
     ]
    },
    {
     "name": "stderr",
     "output_type": "stream",
     "text": [
      "Processing rows:  69%|██████▉   | 208/300 [01:07<00:27,  3.37it/s]"
     ]
    },
    {
     "name": "stdout",
     "output_type": "stream",
     "text": [
      "Status code: 404\n",
      "Status code: 200\n"
     ]
    },
    {
     "name": "stderr",
     "output_type": "stream",
     "text": [
      "Processing rows:  70%|██████▉   | 209/300 [01:08<00:28,  3.17it/s]"
     ]
    },
    {
     "name": "stdout",
     "output_type": "stream",
     "text": [
      "Status code: 200\n",
      "Status code: 200\n"
     ]
    },
    {
     "name": "stderr",
     "output_type": "stream",
     "text": [
      "Processing rows:  70%|███████   | 210/300 [01:08<00:28,  3.12it/s]"
     ]
    },
    {
     "name": "stdout",
     "output_type": "stream",
     "text": [
      "Status code: 200\n",
      "Status code: 200\n"
     ]
    },
    {
     "name": "stderr",
     "output_type": "stream",
     "text": [
      "Processing rows:  70%|███████   | 211/300 [01:08<00:29,  3.06it/s]"
     ]
    },
    {
     "name": "stdout",
     "output_type": "stream",
     "text": [
      "Status code: 200\n",
      "Status code: 200\n"
     ]
    },
    {
     "name": "stderr",
     "output_type": "stream",
     "text": [
      "Processing rows:  71%|███████   | 212/300 [01:09<00:28,  3.11it/s]"
     ]
    },
    {
     "name": "stdout",
     "output_type": "stream",
     "text": [
      "Status code: 404\n",
      "Status code: 200\n"
     ]
    },
    {
     "name": "stderr",
     "output_type": "stream",
     "text": [
      "Processing rows:  71%|███████   | 213/300 [01:09<00:27,  3.17it/s]"
     ]
    },
    {
     "name": "stdout",
     "output_type": "stream",
     "text": [
      "Status code: 200\n",
      "Status code: 200\n"
     ]
    },
    {
     "name": "stderr",
     "output_type": "stream",
     "text": [
      "Processing rows:  71%|███████▏  | 214/300 [01:09<00:26,  3.26it/s]"
     ]
    },
    {
     "name": "stdout",
     "output_type": "stream",
     "text": [
      "Status code: 200\n",
      "Status code: 200\n"
     ]
    },
    {
     "name": "stderr",
     "output_type": "stream",
     "text": [
      "Processing rows:  72%|███████▏  | 215/300 [01:10<00:26,  3.18it/s]"
     ]
    },
    {
     "name": "stdout",
     "output_type": "stream",
     "text": [
      "Status code: 200\n",
      "Status code: 200\n"
     ]
    },
    {
     "name": "stderr",
     "output_type": "stream",
     "text": [
      "Processing rows:  72%|███████▏  | 216/300 [01:10<00:24,  3.36it/s]"
     ]
    },
    {
     "name": "stdout",
     "output_type": "stream",
     "text": [
      "Status code: 404\n",
      "Status code: 200\n"
     ]
    },
    {
     "name": "stderr",
     "output_type": "stream",
     "text": [
      "Processing rows:  72%|███████▏  | 217/300 [01:10<00:25,  3.26it/s]"
     ]
    },
    {
     "name": "stdout",
     "output_type": "stream",
     "text": [
      "Status code: 200\n",
      "Status code: 200\n"
     ]
    },
    {
     "name": "stderr",
     "output_type": "stream",
     "text": [
      "Processing rows:  73%|███████▎  | 218/300 [01:11<00:26,  3.09it/s]"
     ]
    },
    {
     "name": "stdout",
     "output_type": "stream",
     "text": [
      "Status code: 200\n",
      "Status code: 200\n"
     ]
    },
    {
     "name": "stderr",
     "output_type": "stream",
     "text": [
      "Processing rows:  73%|███████▎  | 219/300 [01:11<00:26,  3.07it/s]"
     ]
    },
    {
     "name": "stdout",
     "output_type": "stream",
     "text": [
      "Status code: 200\n",
      "Status code: 200\n"
     ]
    },
    {
     "name": "stderr",
     "output_type": "stream",
     "text": [
      "Processing rows:  73%|███████▎  | 220/300 [01:11<00:24,  3.21it/s]"
     ]
    },
    {
     "name": "stdout",
     "output_type": "stream",
     "text": [
      "Status code: 404\n",
      "Status code: 200\n"
     ]
    },
    {
     "name": "stderr",
     "output_type": "stream",
     "text": [
      "Processing rows:  74%|███████▎  | 221/300 [01:12<00:25,  3.16it/s]"
     ]
    },
    {
     "name": "stdout",
     "output_type": "stream",
     "text": [
      "Status code: 200\n",
      "Status code: 200\n"
     ]
    },
    {
     "name": "stderr",
     "output_type": "stream",
     "text": [
      "Processing rows:  74%|███████▍  | 222/300 [01:12<00:24,  3.17it/s]"
     ]
    },
    {
     "name": "stdout",
     "output_type": "stream",
     "text": [
      "Status code: 200\n",
      "Status code: 200\n"
     ]
    },
    {
     "name": "stderr",
     "output_type": "stream",
     "text": [
      "Processing rows:  74%|███████▍  | 223/300 [01:12<00:24,  3.14it/s]"
     ]
    },
    {
     "name": "stdout",
     "output_type": "stream",
     "text": [
      "Status code: 200\n",
      "Status code: 200\n"
     ]
    },
    {
     "name": "stderr",
     "output_type": "stream",
     "text": [
      "Processing rows:  75%|███████▍  | 224/300 [01:12<00:24,  3.16it/s]"
     ]
    },
    {
     "name": "stdout",
     "output_type": "stream",
     "text": [
      "Status code: 200\n",
      "Status code: 200\n"
     ]
    },
    {
     "name": "stderr",
     "output_type": "stream",
     "text": [
      "Processing rows:  75%|███████▌  | 225/300 [01:13<00:22,  3.31it/s]"
     ]
    },
    {
     "name": "stdout",
     "output_type": "stream",
     "text": [
      "Status code: 200\n",
      "Status code: 200\n"
     ]
    },
    {
     "name": "stderr",
     "output_type": "stream",
     "text": [
      "Processing rows:  75%|███████▌  | 226/300 [01:13<00:22,  3.23it/s]"
     ]
    },
    {
     "name": "stdout",
     "output_type": "stream",
     "text": [
      "Status code: 200\n",
      "Status code: 200\n"
     ]
    },
    {
     "name": "stderr",
     "output_type": "stream",
     "text": [
      "Processing rows:  76%|███████▌  | 227/300 [01:13<00:21,  3.34it/s]"
     ]
    },
    {
     "name": "stdout",
     "output_type": "stream",
     "text": [
      "Status code: 200\n",
      "Status code: 200\n"
     ]
    },
    {
     "name": "stderr",
     "output_type": "stream",
     "text": [
      "Processing rows:  76%|███████▌  | 228/300 [01:14<00:23,  3.12it/s]"
     ]
    },
    {
     "name": "stdout",
     "output_type": "stream",
     "text": [
      "Status code: 200\n",
      "Status code: 200\n"
     ]
    },
    {
     "name": "stderr",
     "output_type": "stream",
     "text": [
      "Processing rows:  76%|███████▋  | 229/300 [01:14<00:21,  3.27it/s]"
     ]
    },
    {
     "name": "stdout",
     "output_type": "stream",
     "text": [
      "Status code: 200\n",
      "Status code: 200\n"
     ]
    },
    {
     "name": "stderr",
     "output_type": "stream",
     "text": [
      "Processing rows:  77%|███████▋  | 230/300 [01:14<00:20,  3.33it/s]"
     ]
    },
    {
     "name": "stdout",
     "output_type": "stream",
     "text": [
      "Status code: 200\n",
      "Status code: 200\n"
     ]
    },
    {
     "name": "stderr",
     "output_type": "stream",
     "text": [
      "Processing rows:  77%|███████▋  | 231/300 [01:15<00:20,  3.40it/s]"
     ]
    },
    {
     "name": "stdout",
     "output_type": "stream",
     "text": [
      "Status code: 200\n",
      "Status code: 200\n"
     ]
    },
    {
     "name": "stderr",
     "output_type": "stream",
     "text": [
      "Processing rows:  77%|███████▋  | 232/300 [01:15<00:20,  3.28it/s]"
     ]
    },
    {
     "name": "stdout",
     "output_type": "stream",
     "text": [
      "Status code: 200\n",
      "Status code: 200\n"
     ]
    },
    {
     "name": "stderr",
     "output_type": "stream",
     "text": [
      "Processing rows:  78%|███████▊  | 233/300 [01:15<00:20,  3.28it/s]"
     ]
    },
    {
     "name": "stdout",
     "output_type": "stream",
     "text": [
      "Status code: 200\n",
      "Status code: 200\n"
     ]
    },
    {
     "name": "stderr",
     "output_type": "stream",
     "text": [
      "Processing rows:  78%|███████▊  | 234/300 [01:15<00:19,  3.34it/s]"
     ]
    },
    {
     "name": "stdout",
     "output_type": "stream",
     "text": [
      "Status code: 404\n",
      "Status code: 200\n"
     ]
    },
    {
     "name": "stderr",
     "output_type": "stream",
     "text": [
      "Processing rows:  78%|███████▊  | 235/300 [01:16<00:20,  3.12it/s]"
     ]
    },
    {
     "name": "stdout",
     "output_type": "stream",
     "text": [
      "Status code: 200\n",
      "Status code: 200\n"
     ]
    },
    {
     "name": "stderr",
     "output_type": "stream",
     "text": [
      "Processing rows:  79%|███████▊  | 236/300 [01:16<00:19,  3.31it/s]"
     ]
    },
    {
     "name": "stdout",
     "output_type": "stream",
     "text": [
      "Status code: 404\n",
      "Status code: 200\n"
     ]
    },
    {
     "name": "stderr",
     "output_type": "stream",
     "text": [
      "Processing rows:  79%|███████▉  | 237/300 [01:16<00:19,  3.28it/s]"
     ]
    },
    {
     "name": "stdout",
     "output_type": "stream",
     "text": [
      "Status code: 200\n",
      "Status code: 200\n"
     ]
    },
    {
     "name": "stderr",
     "output_type": "stream",
     "text": [
      "Processing rows:  79%|███████▉  | 238/300 [01:17<00:20,  3.09it/s]"
     ]
    },
    {
     "name": "stdout",
     "output_type": "stream",
     "text": [
      "Status code: 200\n",
      "Status code: 200\n"
     ]
    },
    {
     "name": "stderr",
     "output_type": "stream",
     "text": [
      "Processing rows:  80%|███████▉  | 239/300 [01:17<00:19,  3.13it/s]"
     ]
    },
    {
     "name": "stdout",
     "output_type": "stream",
     "text": [
      "Status code: 404\n",
      "Status code: 200\n"
     ]
    },
    {
     "name": "stderr",
     "output_type": "stream",
     "text": [
      "Processing rows:  80%|████████  | 240/300 [01:17<00:18,  3.17it/s]"
     ]
    },
    {
     "name": "stdout",
     "output_type": "stream",
     "text": [
      "Status code: 200\n",
      "Status code: 200\n"
     ]
    },
    {
     "name": "stderr",
     "output_type": "stream",
     "text": [
      "Processing rows:  80%|████████  | 241/300 [01:18<00:18,  3.19it/s]"
     ]
    },
    {
     "name": "stdout",
     "output_type": "stream",
     "text": [
      "Status code: 200\n",
      "Status code: 200\n"
     ]
    },
    {
     "name": "stderr",
     "output_type": "stream",
     "text": [
      "Processing rows:  81%|████████  | 242/300 [01:18<00:17,  3.25it/s]"
     ]
    },
    {
     "name": "stdout",
     "output_type": "stream",
     "text": [
      "Status code: 404\n",
      "Status code: 200\n"
     ]
    },
    {
     "name": "stderr",
     "output_type": "stream",
     "text": [
      "Processing rows:  81%|████████  | 243/300 [01:18<00:17,  3.30it/s]"
     ]
    },
    {
     "name": "stdout",
     "output_type": "stream",
     "text": [
      "Status code: 200\n",
      "Status code: 200\n"
     ]
    },
    {
     "name": "stderr",
     "output_type": "stream",
     "text": [
      "Processing rows:  81%|████████▏ | 244/300 [01:19<00:17,  3.24it/s]"
     ]
    },
    {
     "name": "stdout",
     "output_type": "stream",
     "text": [
      "Status code: 200\n",
      "Status code: 200\n"
     ]
    },
    {
     "name": "stderr",
     "output_type": "stream",
     "text": [
      "Processing rows:  82%|████████▏ | 245/300 [01:19<00:17,  3.10it/s]"
     ]
    },
    {
     "name": "stdout",
     "output_type": "stream",
     "text": [
      "Status code: 200\n",
      "Status code: 200\n"
     ]
    },
    {
     "name": "stderr",
     "output_type": "stream",
     "text": [
      "Processing rows:  82%|████████▏ | 246/300 [01:19<00:17,  3.07it/s]"
     ]
    },
    {
     "name": "stdout",
     "output_type": "stream",
     "text": [
      "Status code: 200\n",
      "Status code: 200\n"
     ]
    },
    {
     "name": "stderr",
     "output_type": "stream",
     "text": [
      "Processing rows:  82%|████████▏ | 247/300 [01:20<00:17,  2.99it/s]"
     ]
    },
    {
     "name": "stdout",
     "output_type": "stream",
     "text": [
      "Status code: 200\n",
      "Status code: 200\n"
     ]
    },
    {
     "name": "stderr",
     "output_type": "stream",
     "text": [
      "Processing rows:  83%|████████▎ | 248/300 [01:20<00:17,  3.00it/s]"
     ]
    },
    {
     "name": "stdout",
     "output_type": "stream",
     "text": [
      "Status code: 200\n",
      "Status code: 200\n"
     ]
    },
    {
     "name": "stderr",
     "output_type": "stream",
     "text": [
      "Processing rows:  83%|████████▎ | 249/300 [01:20<00:17,  2.97it/s]"
     ]
    },
    {
     "name": "stdout",
     "output_type": "stream",
     "text": [
      "Status code: 200\n",
      "Status code: 200\n"
     ]
    },
    {
     "name": "stderr",
     "output_type": "stream",
     "text": [
      "Processing rows:  83%|████████▎ | 250/300 [01:21<00:16,  3.07it/s]"
     ]
    },
    {
     "name": "stdout",
     "output_type": "stream",
     "text": [
      "Status code: 200\n",
      "Status code: 200\n"
     ]
    },
    {
     "name": "stderr",
     "output_type": "stream",
     "text": [
      "Processing rows:  84%|████████▎ | 251/300 [01:21<00:15,  3.16it/s]"
     ]
    },
    {
     "name": "stdout",
     "output_type": "stream",
     "text": [
      "Status code: 200\n",
      "Status code: 200\n"
     ]
    },
    {
     "name": "stderr",
     "output_type": "stream",
     "text": [
      "Processing rows:  84%|████████▍ | 252/300 [01:21<00:15,  3.14it/s]"
     ]
    },
    {
     "name": "stdout",
     "output_type": "stream",
     "text": [
      "Status code: 200\n",
      "Status code: 200\n"
     ]
    },
    {
     "name": "stderr",
     "output_type": "stream",
     "text": [
      "Processing rows:  84%|████████▍ | 253/300 [01:22<00:15,  3.13it/s]"
     ]
    },
    {
     "name": "stdout",
     "output_type": "stream",
     "text": [
      "Status code: 200\n",
      "Status code: 200\n"
     ]
    },
    {
     "name": "stderr",
     "output_type": "stream",
     "text": [
      "Processing rows:  85%|████████▍ | 254/300 [01:22<00:14,  3.17it/s]"
     ]
    },
    {
     "name": "stdout",
     "output_type": "stream",
     "text": [
      "Status code: 200\n",
      "Status code: 200\n"
     ]
    },
    {
     "name": "stderr",
     "output_type": "stream",
     "text": [
      "Processing rows:  85%|████████▌ | 255/300 [01:22<00:13,  3.23it/s]"
     ]
    },
    {
     "name": "stdout",
     "output_type": "stream",
     "text": [
      "Status code: 200\n",
      "Status code: 200\n"
     ]
    },
    {
     "name": "stderr",
     "output_type": "stream",
     "text": [
      "Processing rows:  85%|████████▌ | 256/300 [01:22<00:13,  3.30it/s]"
     ]
    },
    {
     "name": "stdout",
     "output_type": "stream",
     "text": [
      "Status code: 200\n",
      "Status code: 200\n"
     ]
    },
    {
     "name": "stderr",
     "output_type": "stream",
     "text": [
      "Processing rows:  86%|████████▌ | 257/300 [01:23<00:13,  3.16it/s]"
     ]
    },
    {
     "name": "stdout",
     "output_type": "stream",
     "text": [
      "Status code: 200\n",
      "Status code: 200\n"
     ]
    },
    {
     "name": "stderr",
     "output_type": "stream",
     "text": [
      "Processing rows:  86%|████████▌ | 258/300 [01:23<00:13,  3.20it/s]"
     ]
    },
    {
     "name": "stdout",
     "output_type": "stream",
     "text": [
      "Status code: 200\n",
      "Status code: 200\n"
     ]
    },
    {
     "name": "stderr",
     "output_type": "stream",
     "text": [
      "Processing rows:  86%|████████▋ | 259/300 [01:23<00:13,  3.14it/s]"
     ]
    },
    {
     "name": "stdout",
     "output_type": "stream",
     "text": [
      "Status code: 200\n",
      "Status code: 200\n"
     ]
    },
    {
     "name": "stderr",
     "output_type": "stream",
     "text": [
      "Processing rows:  87%|████████▋ | 260/300 [01:24<00:12,  3.09it/s]"
     ]
    },
    {
     "name": "stdout",
     "output_type": "stream",
     "text": [
      "Status code: 200\n",
      "Status code: 200\n"
     ]
    },
    {
     "name": "stderr",
     "output_type": "stream",
     "text": [
      "Processing rows:  87%|████████▋ | 261/300 [01:24<00:12,  3.03it/s]"
     ]
    },
    {
     "name": "stdout",
     "output_type": "stream",
     "text": [
      "Status code: 200\n",
      "Status code: 200\n"
     ]
    },
    {
     "name": "stderr",
     "output_type": "stream",
     "text": [
      "Processing rows:  87%|████████▋ | 262/300 [01:24<00:12,  3.04it/s]"
     ]
    },
    {
     "name": "stdout",
     "output_type": "stream",
     "text": [
      "Status code: 200\n",
      "Status code: 200\n"
     ]
    },
    {
     "name": "stderr",
     "output_type": "stream",
     "text": [
      "Processing rows:  88%|████████▊ | 263/300 [01:25<00:11,  3.12it/s]"
     ]
    },
    {
     "name": "stdout",
     "output_type": "stream",
     "text": [
      "Status code: 200\n",
      "Status code: 200\n"
     ]
    },
    {
     "name": "stderr",
     "output_type": "stream",
     "text": [
      "Processing rows:  88%|████████▊ | 264/300 [01:25<00:12,  2.82it/s]"
     ]
    },
    {
     "name": "stdout",
     "output_type": "stream",
     "text": [
      "Status code: 200\n",
      "Status code: 200\n"
     ]
    },
    {
     "name": "stderr",
     "output_type": "stream",
     "text": [
      "Processing rows:  88%|████████▊ | 265/300 [01:26<00:12,  2.77it/s]"
     ]
    },
    {
     "name": "stdout",
     "output_type": "stream",
     "text": [
      "Status code: 200\n",
      "Status code: 200\n"
     ]
    },
    {
     "name": "stderr",
     "output_type": "stream",
     "text": [
      "Processing rows:  89%|████████▊ | 266/300 [01:26<00:11,  2.84it/s]"
     ]
    },
    {
     "name": "stdout",
     "output_type": "stream",
     "text": [
      "Status code: 404\n",
      "Status code: 200\n",
      "Status code: 200\n"
     ]
    },
    {
     "name": "stderr",
     "output_type": "stream",
     "text": [
      "Processing rows:  89%|████████▉ | 267/300 [01:26<00:12,  2.57it/s]"
     ]
    },
    {
     "name": "stdout",
     "output_type": "stream",
     "text": [
      "Status code: 200\n",
      "Status code: 200\n"
     ]
    },
    {
     "name": "stderr",
     "output_type": "stream",
     "text": [
      "Processing rows:  89%|████████▉ | 268/300 [01:27<00:11,  2.72it/s]"
     ]
    },
    {
     "name": "stdout",
     "output_type": "stream",
     "text": [
      "Status code: 200\n",
      "Status code: 200\n"
     ]
    },
    {
     "name": "stderr",
     "output_type": "stream",
     "text": [
      "Processing rows:  90%|████████▉ | 269/300 [01:27<00:10,  2.82it/s]"
     ]
    },
    {
     "name": "stdout",
     "output_type": "stream",
     "text": [
      "Status code: 200\n",
      "Status code: 200\n"
     ]
    },
    {
     "name": "stderr",
     "output_type": "stream",
     "text": [
      "Processing rows:  90%|█████████ | 270/300 [01:27<00:10,  2.88it/s]"
     ]
    },
    {
     "name": "stdout",
     "output_type": "stream",
     "text": [
      "Status code: 200\n",
      "Status code: 200\n"
     ]
    },
    {
     "name": "stderr",
     "output_type": "stream",
     "text": [
      "Processing rows:  90%|█████████ | 271/300 [01:28<00:10,  2.85it/s]"
     ]
    },
    {
     "name": "stdout",
     "output_type": "stream",
     "text": [
      "Status code: 200\n",
      "Status code: 200\n"
     ]
    },
    {
     "name": "stderr",
     "output_type": "stream",
     "text": [
      "Processing rows:  91%|█████████ | 272/300 [01:28<00:09,  2.90it/s]"
     ]
    },
    {
     "name": "stdout",
     "output_type": "stream",
     "text": [
      "Status code: 200\n",
      "Status code: 200\n"
     ]
    },
    {
     "name": "stderr",
     "output_type": "stream",
     "text": [
      "Processing rows:  91%|█████████ | 273/300 [01:28<00:08,  3.00it/s]"
     ]
    },
    {
     "name": "stdout",
     "output_type": "stream",
     "text": [
      "Status code: 200\n",
      "Status code: 200\n"
     ]
    },
    {
     "name": "stderr",
     "output_type": "stream",
     "text": [
      "Processing rows:  91%|█████████▏| 274/300 [01:29<00:08,  3.04it/s]"
     ]
    },
    {
     "name": "stdout",
     "output_type": "stream",
     "text": [
      "Status code: 200\n",
      "Status code: 200\n"
     ]
    },
    {
     "name": "stderr",
     "output_type": "stream",
     "text": [
      "Processing rows:  92%|█████████▏| 275/300 [01:29<00:07,  3.23it/s]"
     ]
    },
    {
     "name": "stdout",
     "output_type": "stream",
     "text": [
      "Status code: 200\n",
      "Status code: 404\n"
     ]
    },
    {
     "name": "stderr",
     "output_type": "stream",
     "text": [
      "Processing rows:  92%|█████████▏| 276/300 [01:29<00:07,  3.32it/s]"
     ]
    },
    {
     "name": "stdout",
     "output_type": "stream",
     "text": [
      "Status code: 200\n",
      "Status code: 200\n"
     ]
    },
    {
     "name": "stderr",
     "output_type": "stream",
     "text": [
      "Processing rows:  92%|█████████▏| 277/300 [01:30<00:07,  3.19it/s]"
     ]
    },
    {
     "name": "stdout",
     "output_type": "stream",
     "text": [
      "Status code: 200\n",
      "Status code: 200\n"
     ]
    },
    {
     "name": "stderr",
     "output_type": "stream",
     "text": [
      "Processing rows:  93%|█████████▎| 278/300 [01:30<00:07,  3.10it/s]"
     ]
    },
    {
     "name": "stdout",
     "output_type": "stream",
     "text": [
      "Status code: 200\n",
      "Status code: 404\n"
     ]
    },
    {
     "name": "stderr",
     "output_type": "stream",
     "text": [
      "Processing rows:  93%|█████████▎| 279/300 [01:30<00:06,  3.27it/s]"
     ]
    },
    {
     "name": "stdout",
     "output_type": "stream",
     "text": [
      "Status code: 200\n",
      "Status code: 200\n"
     ]
    },
    {
     "name": "stderr",
     "output_type": "stream",
     "text": [
      "Processing rows:  93%|█████████▎| 280/300 [01:31<00:06,  3.15it/s]"
     ]
    },
    {
     "name": "stdout",
     "output_type": "stream",
     "text": [
      "Status code: 200\n",
      "Status code: 200\n"
     ]
    },
    {
     "name": "stderr",
     "output_type": "stream",
     "text": [
      "Processing rows:  94%|█████████▎| 281/300 [01:31<00:05,  3.26it/s]"
     ]
    },
    {
     "name": "stdout",
     "output_type": "stream",
     "text": [
      "Status code: 200\n",
      "Status code: 200\n"
     ]
    },
    {
     "name": "stderr",
     "output_type": "stream",
     "text": [
      "Processing rows:  94%|█████████▍| 282/300 [01:31<00:05,  3.25it/s]"
     ]
    },
    {
     "name": "stdout",
     "output_type": "stream",
     "text": [
      "Status code: 200\n"
     ]
    },
    {
     "name": "stderr",
     "output_type": "stream",
     "text": [
      "Processing rows:  94%|█████████▍| 283/300 [01:32<00:06,  2.83it/s]"
     ]
    },
    {
     "name": "stdout",
     "output_type": "stream",
     "text": [
      "Status code: 200\n",
      "Status code: 200\n"
     ]
    },
    {
     "name": "stderr",
     "output_type": "stream",
     "text": [
      "Processing rows:  95%|█████████▍| 284/300 [01:32<00:06,  2.64it/s]"
     ]
    },
    {
     "name": "stdout",
     "output_type": "stream",
     "text": [
      "Status code: 200\n",
      "Status code: 200\n"
     ]
    },
    {
     "name": "stderr",
     "output_type": "stream",
     "text": [
      "Processing rows:  95%|█████████▌| 285/300 [01:32<00:05,  2.84it/s]"
     ]
    },
    {
     "name": "stdout",
     "output_type": "stream",
     "text": [
      "Status code: 200\n",
      "Status code: 200\n"
     ]
    },
    {
     "name": "stderr",
     "output_type": "stream",
     "text": [
      "Processing rows:  95%|█████████▌| 286/300 [01:33<00:04,  2.95it/s]"
     ]
    },
    {
     "name": "stdout",
     "output_type": "stream",
     "text": [
      "Status code: 200\n",
      "Status code: 200\n"
     ]
    },
    {
     "name": "stderr",
     "output_type": "stream",
     "text": [
      "Processing rows:  96%|█████████▌| 287/300 [01:33<00:04,  2.96it/s]"
     ]
    },
    {
     "name": "stdout",
     "output_type": "stream",
     "text": [
      "Status code: 200\n",
      "Status code: 200\n"
     ]
    },
    {
     "name": "stderr",
     "output_type": "stream",
     "text": [
      "Processing rows:  96%|█████████▌| 288/300 [01:33<00:03,  3.14it/s]"
     ]
    },
    {
     "name": "stdout",
     "output_type": "stream",
     "text": [
      "Status code: 404\n",
      "Status code: 200\n"
     ]
    },
    {
     "name": "stderr",
     "output_type": "stream",
     "text": [
      "Processing rows:  96%|█████████▋| 289/300 [01:34<00:03,  3.06it/s]"
     ]
    },
    {
     "name": "stdout",
     "output_type": "stream",
     "text": [
      "Status code: 200\n",
      "Status code: 200\n"
     ]
    },
    {
     "name": "stderr",
     "output_type": "stream",
     "text": [
      "Processing rows:  97%|█████████▋| 290/300 [01:34<00:03,  3.19it/s]"
     ]
    },
    {
     "name": "stdout",
     "output_type": "stream",
     "text": [
      "Status code: 200\n",
      "Status code: 200\n"
     ]
    },
    {
     "name": "stderr",
     "output_type": "stream",
     "text": [
      "Processing rows:  97%|█████████▋| 291/300 [01:34<00:02,  3.12it/s]"
     ]
    },
    {
     "name": "stdout",
     "output_type": "stream",
     "text": [
      "Status code: 200\n",
      "Status code: 200\n"
     ]
    },
    {
     "name": "stderr",
     "output_type": "stream",
     "text": [
      "Processing rows:  97%|█████████▋| 292/300 [01:34<00:02,  3.13it/s]"
     ]
    },
    {
     "name": "stdout",
     "output_type": "stream",
     "text": [
      "Status code: 200\n",
      "Status code: 200\n"
     ]
    },
    {
     "name": "stderr",
     "output_type": "stream",
     "text": [
      "Processing rows:  98%|█████████▊| 293/300 [01:35<00:02,  3.24it/s]"
     ]
    },
    {
     "name": "stdout",
     "output_type": "stream",
     "text": [
      "Status code: 200\n",
      "Status code: 200\n"
     ]
    },
    {
     "name": "stderr",
     "output_type": "stream",
     "text": [
      "Processing rows:  98%|█████████▊| 294/300 [01:35<00:01,  3.18it/s]"
     ]
    },
    {
     "name": "stdout",
     "output_type": "stream",
     "text": [
      "Status code: 200\n",
      "Status code: 200\n"
     ]
    },
    {
     "name": "stderr",
     "output_type": "stream",
     "text": [
      "Processing rows:  98%|█████████▊| 295/300 [01:35<00:01,  3.08it/s]"
     ]
    },
    {
     "name": "stdout",
     "output_type": "stream",
     "text": [
      "Status code: 200\n",
      "Status code: 200\n"
     ]
    },
    {
     "name": "stderr",
     "output_type": "stream",
     "text": [
      "Processing rows:  99%|█████████▊| 296/300 [01:36<00:01,  3.16it/s]"
     ]
    },
    {
     "name": "stdout",
     "output_type": "stream",
     "text": [
      "Status code: 200\n",
      "Status code: 200\n"
     ]
    },
    {
     "name": "stderr",
     "output_type": "stream",
     "text": [
      "Processing rows:  99%|█████████▉| 297/300 [01:36<00:00,  3.23it/s]"
     ]
    },
    {
     "name": "stdout",
     "output_type": "stream",
     "text": [
      "Status code: 200\n",
      "Status code: 200\n"
     ]
    },
    {
     "name": "stderr",
     "output_type": "stream",
     "text": [
      "Processing rows:  99%|█████████▉| 298/300 [01:36<00:00,  3.30it/s]"
     ]
    },
    {
     "name": "stdout",
     "output_type": "stream",
     "text": [
      "Status code: 200\n",
      "Status code: 200\n"
     ]
    },
    {
     "name": "stderr",
     "output_type": "stream",
     "text": [
      "Processing rows: 100%|█████████▉| 299/300 [01:37<00:00,  3.38it/s]"
     ]
    },
    {
     "name": "stdout",
     "output_type": "stream",
     "text": [
      "Status code: 200\n",
      "Status code: 200\n"
     ]
    },
    {
     "name": "stderr",
     "output_type": "stream",
     "text": [
      "Processing rows: 100%|██████████| 300/300 [01:37<00:00,  3.08it/s]"
     ]
    },
    {
     "name": "stdout",
     "output_type": "stream",
     "text": [
      "Status code: 200\n",
      "Status code: 200\n"
     ]
    },
    {
     "name": "stderr",
     "output_type": "stream",
     "text": [
      "\n"
     ]
    },
    {
     "data": {
      "application/vnd.microsoft.datawrangler.viewer.v0+json": {
       "columns": [
        {
         "name": "index",
         "rawType": "int64",
         "type": "integer"
        },
        {
         "name": "collection_date",
         "rawType": "object",
         "type": "string"
        },
        {
         "name": "track_id",
         "rawType": "object",
         "type": "string"
        },
        {
         "name": "track_tiktok_id",
         "rawType": "int64",
         "type": "integer"
        },
        {
         "name": "track_name",
         "rawType": "object",
         "type": "string"
        },
        {
         "name": "track_position",
         "rawType": "int64",
         "type": "integer"
        },
        {
         "name": "track_date",
         "rawType": "object",
         "type": "string"
        },
        {
         "name": "track_genres",
         "rawType": "object",
         "type": "string"
        },
        {
         "name": "track_features",
         "rawType": "object",
         "type": "string"
        },
        {
         "name": "artist_name",
         "rawType": "object",
         "type": "string"
        },
        {
         "name": "artist_id",
         "rawType": "object",
         "type": "string"
        },
        {
         "name": "artist_followers",
         "rawType": "object",
         "type": "string"
        },
        {
         "name": "label_name",
         "rawType": "object",
         "type": "string"
        },
        {
         "name": "label_type",
         "rawType": "object",
         "type": "string"
        },
        {
         "name": "artist_video",
         "rawType": "bool",
         "type": "boolean"
        },
        {
         "name": "artist_video_date",
         "rawType": "object",
         "type": "string"
        },
        {
         "name": "stream_date",
         "rawType": "object",
         "type": "string"
        },
        {
         "name": "spotify_streams",
         "rawType": "int64",
         "type": "integer"
        },
        {
         "name": "tiktok_stream_date",
         "rawType": "object",
         "type": "string"
        },
        {
         "name": "tiktok_streams",
         "rawType": "float64",
         "type": "float"
        }
       ],
       "conversionMethod": "pd.DataFrame",
       "ref": "2b54dd5b-99e5-43f8-a018-5f2786d9ffa6",
       "rows": [
        [
         "0",
         "2024-09-01T00:00:00+02:00",
         "5a4ae67e-d91c-4883-95cb-20035f2a3f7a",
         "7403552691299633168",
         "Taste",
         "1",
         "2024-08-23T00:00:00+00:00",
         "['pop']",
         null,
         "['Sabrina Carpenter']",
         "['11e81bba-57e6-3220-a3c7-a0369fe50396']",
         "[31500000]",
         "['Island']",
         "['Universal']",
         "True",
         "2024-08-25",
         "2024-10-08T00:00:00+00:00",
         "318651503",
         "2024-08-24T00:00:00+00:00",
         null
        ],
        [
         "1",
         "2024-09-01T00:00:00+02:00",
         "5a4ae67e-d91c-4883-95cb-20035f2a3f7a",
         "7403552691299633168",
         "Taste",
         "1",
         "2024-08-23T00:00:00+00:00",
         "['pop']",
         null,
         "['Sabrina Carpenter']",
         "['11e81bba-57e6-3220-a3c7-a0369fe50396']",
         "[31500000]",
         "['Island']",
         "['Universal']",
         "True",
         "2024-08-25",
         "2024-10-07T00:00:00+00:00",
         "313216563",
         "2024-08-24T00:00:00+00:00",
         null
        ],
        [
         "2",
         "2024-09-01T00:00:00+02:00",
         "5a4ae67e-d91c-4883-95cb-20035f2a3f7a",
         "7403552691299633168",
         "Taste",
         "1",
         "2024-08-23T00:00:00+00:00",
         "['pop']",
         null,
         "['Sabrina Carpenter']",
         "['11e81bba-57e6-3220-a3c7-a0369fe50396']",
         "[31500000]",
         "['Island']",
         "['Universal']",
         "True",
         "2024-08-25",
         "2024-10-06T00:00:00+00:00",
         "307119726",
         "2024-10-06T00:00:00+00:00",
         "2600000.0"
        ],
        [
         "3",
         "2024-09-01T00:00:00+02:00",
         "5a4ae67e-d91c-4883-95cb-20035f2a3f7a",
         "7403552691299633168",
         "Taste",
         "1",
         "2024-08-23T00:00:00+00:00",
         "['pop']",
         null,
         "['Sabrina Carpenter']",
         "['11e81bba-57e6-3220-a3c7-a0369fe50396']",
         "[31500000]",
         "['Island']",
         "['Universal']",
         "True",
         "2024-08-25",
         "2024-10-05T00:00:00+00:00",
         "300681297",
         "2024-08-24T00:00:00+00:00",
         null
        ],
        [
         "4",
         "2024-09-01T00:00:00+02:00",
         "5a4ae67e-d91c-4883-95cb-20035f2a3f7a",
         "7403552691299633168",
         "Taste",
         "1",
         "2024-08-23T00:00:00+00:00",
         "['pop']",
         null,
         "['Sabrina Carpenter']",
         "['11e81bba-57e6-3220-a3c7-a0369fe50396']",
         "[31500000]",
         "['Island']",
         "['Universal']",
         "True",
         "2024-08-25",
         "2024-10-04T00:00:00+00:00",
         "294398878",
         "2024-10-04T00:00:00+00:00",
         "2600000.0"
        ],
        [
         "5",
         "2024-09-01T00:00:00+02:00",
         "5a4ae67e-d91c-4883-95cb-20035f2a3f7a",
         "7403552691299633168",
         "Taste",
         "1",
         "2024-08-23T00:00:00+00:00",
         "['pop']",
         null,
         "['Sabrina Carpenter']",
         "['11e81bba-57e6-3220-a3c7-a0369fe50396']",
         "[31500000]",
         "['Island']",
         "['Universal']",
         "True",
         "2024-08-25",
         "2024-10-03T00:00:00+00:00",
         "288096924",
         "2024-08-24T00:00:00+00:00",
         null
        ],
        [
         "6",
         "2024-09-01T00:00:00+02:00",
         "5a4ae67e-d91c-4883-95cb-20035f2a3f7a",
         "7403552691299633168",
         "Taste",
         "1",
         "2024-08-23T00:00:00+00:00",
         "['pop']",
         null,
         "['Sabrina Carpenter']",
         "['11e81bba-57e6-3220-a3c7-a0369fe50396']",
         "[31500000]",
         "['Island']",
         "['Universal']",
         "True",
         "2024-08-25",
         "2024-10-02T00:00:00+00:00",
         "281843016",
         "2024-10-02T00:00:00+00:00",
         "2700000.0"
        ],
        [
         "7",
         "2024-09-01T00:00:00+02:00",
         "5a4ae67e-d91c-4883-95cb-20035f2a3f7a",
         "7403552691299633168",
         "Taste",
         "1",
         "2024-08-23T00:00:00+00:00",
         "['pop']",
         null,
         "['Sabrina Carpenter']",
         "['11e81bba-57e6-3220-a3c7-a0369fe50396']",
         "[31500000]",
         "['Island']",
         "['Universal']",
         "True",
         "2024-08-25",
         "2024-10-01T00:00:00+00:00",
         "275463793",
         "2024-10-01T00:00:00+00:00",
         "2700000.0"
        ],
        [
         "8",
         "2024-09-01T00:00:00+02:00",
         "5a4ae67e-d91c-4883-95cb-20035f2a3f7a",
         "7403552691299633168",
         "Taste",
         "1",
         "2024-08-23T00:00:00+00:00",
         "['pop']",
         null,
         "['Sabrina Carpenter']",
         "['11e81bba-57e6-3220-a3c7-a0369fe50396']",
         "[31500000]",
         "['Island']",
         "['Universal']",
         "True",
         "2024-08-25",
         "2024-09-30T00:00:00+00:00",
         "269947575",
         "2024-09-30T00:00:00+00:00",
         "2700000.0"
        ],
        [
         "9",
         "2024-09-01T00:00:00+02:00",
         "5a4ae67e-d91c-4883-95cb-20035f2a3f7a",
         "7403552691299633168",
         "Taste",
         "1",
         "2024-08-23T00:00:00+00:00",
         "['pop']",
         null,
         "['Sabrina Carpenter']",
         "['11e81bba-57e6-3220-a3c7-a0369fe50396']",
         "[31500000]",
         "['Island']",
         "['Universal']",
         "True",
         "2024-08-25",
         "2024-09-29T00:00:00+00:00",
         "263677697",
         "2024-09-29T00:00:00+00:00",
         "2700000.0"
        ],
        [
         "10",
         "2024-09-01T00:00:00+02:00",
         "5a4ae67e-d91c-4883-95cb-20035f2a3f7a",
         "7403552691299633168",
         "Taste",
         "1",
         "2024-08-23T00:00:00+00:00",
         "['pop']",
         null,
         "['Sabrina Carpenter']",
         "['11e81bba-57e6-3220-a3c7-a0369fe50396']",
         "[31500000]",
         "['Island']",
         "['Universal']",
         "True",
         "2024-08-25",
         "2024-09-28T00:00:00+00:00",
         "257069263",
         "2024-09-28T00:00:00+00:00",
         "2700000.0"
        ],
        [
         "11",
         "2024-09-01T00:00:00+02:00",
         "5a4ae67e-d91c-4883-95cb-20035f2a3f7a",
         "7403552691299633168",
         "Taste",
         "1",
         "2024-08-23T00:00:00+00:00",
         "['pop']",
         null,
         "['Sabrina Carpenter']",
         "['11e81bba-57e6-3220-a3c7-a0369fe50396']",
         "[31500000]",
         "['Island']",
         "['Universal']",
         "True",
         "2024-08-25",
         "2024-09-27T00:00:00+00:00",
         "250551693",
         "2024-08-24T00:00:00+00:00",
         null
        ],
        [
         "12",
         "2024-09-01T00:00:00+02:00",
         "5a4ae67e-d91c-4883-95cb-20035f2a3f7a",
         "7403552691299633168",
         "Taste",
         "1",
         "2024-08-23T00:00:00+00:00",
         "['pop']",
         null,
         "['Sabrina Carpenter']",
         "['11e81bba-57e6-3220-a3c7-a0369fe50396']",
         "[31500000]",
         "['Island']",
         "['Universal']",
         "True",
         "2024-08-25",
         "2024-09-26T00:00:00+00:00",
         "244044020",
         "2024-08-24T00:00:00+00:00",
         null
        ],
        [
         "13",
         "2024-09-01T00:00:00+02:00",
         "5a4ae67e-d91c-4883-95cb-20035f2a3f7a",
         "7403552691299633168",
         "Taste",
         "1",
         "2024-08-23T00:00:00+00:00",
         "['pop']",
         null,
         "['Sabrina Carpenter']",
         "['11e81bba-57e6-3220-a3c7-a0369fe50396']",
         "[31500000]",
         "['Island']",
         "['Universal']",
         "True",
         "2024-08-25",
         "2024-09-25T00:00:00+00:00",
         "237649982",
         "2024-08-24T00:00:00+00:00",
         null
        ],
        [
         "14",
         "2024-09-01T00:00:00+02:00",
         "5a4ae67e-d91c-4883-95cb-20035f2a3f7a",
         "7403552691299633168",
         "Taste",
         "1",
         "2024-08-23T00:00:00+00:00",
         "['pop']",
         null,
         "['Sabrina Carpenter']",
         "['11e81bba-57e6-3220-a3c7-a0369fe50396']",
         "[31500000]",
         "['Island']",
         "['Universal']",
         "True",
         "2024-08-25",
         "2024-09-24T00:00:00+00:00",
         "231581188",
         "2024-09-24T00:00:00+00:00",
         "2700000.0"
        ],
        [
         "15",
         "2024-09-01T00:00:00+02:00",
         "5a4ae67e-d91c-4883-95cb-20035f2a3f7a",
         "7403552691299633168",
         "Taste",
         "1",
         "2024-08-23T00:00:00+00:00",
         "['pop']",
         null,
         "['Sabrina Carpenter']",
         "['11e81bba-57e6-3220-a3c7-a0369fe50396']",
         "[31500000]",
         "['Island']",
         "['Universal']",
         "True",
         "2024-08-25",
         "2024-09-23T00:00:00+00:00",
         "225991075",
         "2024-09-23T00:00:00+00:00",
         "2700000.0"
        ],
        [
         "16",
         "2024-09-01T00:00:00+02:00",
         "5a4ae67e-d91c-4883-95cb-20035f2a3f7a",
         "7403552691299633168",
         "Taste",
         "1",
         "2024-08-23T00:00:00+00:00",
         "['pop']",
         null,
         "['Sabrina Carpenter']",
         "['11e81bba-57e6-3220-a3c7-a0369fe50396']",
         "[31500000]",
         "['Island']",
         "['Universal']",
         "True",
         "2024-08-25",
         "2024-09-22T00:00:00+00:00",
         "219670964",
         "2024-09-22T00:00:00+00:00",
         "2700000.0"
        ],
        [
         "17",
         "2024-09-01T00:00:00+02:00",
         "5a4ae67e-d91c-4883-95cb-20035f2a3f7a",
         "7403552691299633168",
         "Taste",
         "1",
         "2024-08-23T00:00:00+00:00",
         "['pop']",
         null,
         "['Sabrina Carpenter']",
         "['11e81bba-57e6-3220-a3c7-a0369fe50396']",
         "[31500000]",
         "['Island']",
         "['Universal']",
         "True",
         "2024-08-25",
         "2024-09-21T00:00:00+00:00",
         "212948997",
         "2024-08-24T00:00:00+00:00",
         null
        ],
        [
         "18",
         "2024-09-01T00:00:00+02:00",
         "5a4ae67e-d91c-4883-95cb-20035f2a3f7a",
         "7403552691299633168",
         "Taste",
         "1",
         "2024-08-23T00:00:00+00:00",
         "['pop']",
         null,
         "['Sabrina Carpenter']",
         "['11e81bba-57e6-3220-a3c7-a0369fe50396']",
         "[31500000]",
         "['Island']",
         "['Universal']",
         "True",
         "2024-08-25",
         "2024-09-20T00:00:00+00:00",
         "206116390",
         "2024-09-20T00:00:00+00:00",
         "2700000.0"
        ],
        [
         "19",
         "2024-09-01T00:00:00+02:00",
         "5a4ae67e-d91c-4883-95cb-20035f2a3f7a",
         "7403552691299633168",
         "Taste",
         "1",
         "2024-08-23T00:00:00+00:00",
         "['pop']",
         null,
         "['Sabrina Carpenter']",
         "['11e81bba-57e6-3220-a3c7-a0369fe50396']",
         "[31500000]",
         "['Island']",
         "['Universal']",
         "True",
         "2024-08-25",
         "2024-09-19T00:00:00+00:00",
         "199258120",
         "2024-09-19T00:00:00+00:00",
         "2800000.0"
        ],
        [
         "20",
         "2024-09-01T00:00:00+02:00",
         "5a4ae67e-d91c-4883-95cb-20035f2a3f7a",
         "7403552691299633168",
         "Taste",
         "1",
         "2024-08-23T00:00:00+00:00",
         "['pop']",
         null,
         "['Sabrina Carpenter']",
         "['11e81bba-57e6-3220-a3c7-a0369fe50396']",
         "[31500000]",
         "['Island']",
         "['Universal']",
         "True",
         "2024-08-25",
         "2024-09-18T00:00:00+00:00",
         "192137642",
         "2024-08-24T00:00:00+00:00",
         null
        ],
        [
         "21",
         "2024-09-01T00:00:00+02:00",
         "5a4ae67e-d91c-4883-95cb-20035f2a3f7a",
         "7403552691299633168",
         "Taste",
         "1",
         "2024-08-23T00:00:00+00:00",
         "['pop']",
         null,
         "['Sabrina Carpenter']",
         "['11e81bba-57e6-3220-a3c7-a0369fe50396']",
         "[31500000]",
         "['Island']",
         "['Universal']",
         "True",
         "2024-08-25",
         "2024-09-17T00:00:00+00:00",
         "185005100",
         "2024-08-24T00:00:00+00:00",
         null
        ],
        [
         "22",
         "2024-09-01T00:00:00+02:00",
         "5a4ae67e-d91c-4883-95cb-20035f2a3f7a",
         "7403552691299633168",
         "Taste",
         "1",
         "2024-08-23T00:00:00+00:00",
         "['pop']",
         null,
         "['Sabrina Carpenter']",
         "['11e81bba-57e6-3220-a3c7-a0369fe50396']",
         "[31500000]",
         "['Island']",
         "['Universal']",
         "True",
         "2024-08-25",
         "2024-09-16T00:00:00+00:00",
         "178548658",
         "2024-09-16T00:00:00+00:00",
         "2800000.0"
        ],
        [
         "23",
         "2024-09-01T00:00:00+02:00",
         "5a4ae67e-d91c-4883-95cb-20035f2a3f7a",
         "7403552691299633168",
         "Taste",
         "1",
         "2024-08-23T00:00:00+00:00",
         "['pop']",
         null,
         "['Sabrina Carpenter']",
         "['11e81bba-57e6-3220-a3c7-a0369fe50396']",
         "[31500000]",
         "['Island']",
         "['Universal']",
         "True",
         "2024-08-25",
         "2024-09-15T00:00:00+00:00",
         "171311528",
         "2024-08-24T00:00:00+00:00",
         null
        ],
        [
         "24",
         "2024-09-01T00:00:00+02:00",
         "5a4ae67e-d91c-4883-95cb-20035f2a3f7a",
         "7403552691299633168",
         "Taste",
         "1",
         "2024-08-23T00:00:00+00:00",
         "['pop']",
         null,
         "['Sabrina Carpenter']",
         "['11e81bba-57e6-3220-a3c7-a0369fe50396']",
         "[31500000]",
         "['Island']",
         "['Universal']",
         "True",
         "2024-08-25",
         "2024-09-14T00:00:00+00:00",
         "163635289",
         "2024-09-14T00:00:00+00:00",
         "2800000.0"
        ],
        [
         "25",
         "2024-09-01T00:00:00+02:00",
         "5a4ae67e-d91c-4883-95cb-20035f2a3f7a",
         "7403552691299633168",
         "Taste",
         "1",
         "2024-08-23T00:00:00+00:00",
         "['pop']",
         null,
         "['Sabrina Carpenter']",
         "['11e81bba-57e6-3220-a3c7-a0369fe50396']",
         "[31500000]",
         "['Island']",
         "['Universal']",
         "True",
         "2024-08-25",
         "2024-09-13T00:00:00+00:00",
         "156458789",
         "2024-09-13T00:00:00+00:00",
         "2900000.0"
        ],
        [
         "26",
         "2024-09-01T00:00:00+02:00",
         "5a4ae67e-d91c-4883-95cb-20035f2a3f7a",
         "7403552691299633168",
         "Taste",
         "1",
         "2024-08-23T00:00:00+00:00",
         "['pop']",
         null,
         "['Sabrina Carpenter']",
         "['11e81bba-57e6-3220-a3c7-a0369fe50396']",
         "[31500000]",
         "['Island']",
         "['Universal']",
         "True",
         "2024-08-25",
         "2024-09-12T00:00:00+00:00",
         "149825698",
         "2024-08-24T00:00:00+00:00",
         null
        ],
        [
         "27",
         "2024-09-01T00:00:00+02:00",
         "5a4ae67e-d91c-4883-95cb-20035f2a3f7a",
         "7403552691299633168",
         "Taste",
         "1",
         "2024-08-23T00:00:00+00:00",
         "['pop']",
         null,
         "['Sabrina Carpenter']",
         "['11e81bba-57e6-3220-a3c7-a0369fe50396']",
         "[31500000]",
         "['Island']",
         "['Universal']",
         "True",
         "2024-08-25",
         "2024-09-11T00:00:00+00:00",
         "142554723",
         "2024-09-11T00:00:00+00:00",
         "2900000.0"
        ],
        [
         "28",
         "2024-09-01T00:00:00+02:00",
         "5a4ae67e-d91c-4883-95cb-20035f2a3f7a",
         "7403552691299633168",
         "Taste",
         "1",
         "2024-08-23T00:00:00+00:00",
         "['pop']",
         null,
         "['Sabrina Carpenter']",
         "['11e81bba-57e6-3220-a3c7-a0369fe50396']",
         "[31500000]",
         "['Island']",
         "['Universal']",
         "True",
         "2024-08-25",
         "2024-09-10T00:00:00+00:00",
         "135277919",
         "2024-09-10T00:00:00+00:00",
         "2900000.0"
        ],
        [
         "29",
         "2024-09-01T00:00:00+02:00",
         "5a4ae67e-d91c-4883-95cb-20035f2a3f7a",
         "7403552691299633168",
         "Taste",
         "1",
         "2024-08-23T00:00:00+00:00",
         "['pop']",
         null,
         "['Sabrina Carpenter']",
         "['11e81bba-57e6-3220-a3c7-a0369fe50396']",
         "[31500000]",
         "['Island']",
         "['Universal']",
         "True",
         "2024-08-25",
         "2024-09-09T00:00:00+00:00",
         "128572152",
         "2024-08-24T00:00:00+00:00",
         null
        ],
        [
         "30",
         "2024-09-01T00:00:00+02:00",
         "5a4ae67e-d91c-4883-95cb-20035f2a3f7a",
         "7403552691299633168",
         "Taste",
         "1",
         "2024-08-23T00:00:00+00:00",
         "['pop']",
         null,
         "['Sabrina Carpenter']",
         "['11e81bba-57e6-3220-a3c7-a0369fe50396']",
         "[31500000]",
         "['Island']",
         "['Universal']",
         "True",
         "2024-08-25",
         "2024-09-08T00:00:00+00:00",
         "121295241",
         "2024-09-08T00:00:00+00:00",
         "3000000.0"
        ],
        [
         "31",
         "2024-09-01T00:00:00+02:00",
         "5a4ae67e-d91c-4883-95cb-20035f2a3f7a",
         "7403552691299633168",
         "Taste",
         "1",
         "2024-08-23T00:00:00+00:00",
         "['pop']",
         null,
         "['Sabrina Carpenter']",
         "['11e81bba-57e6-3220-a3c7-a0369fe50396']",
         "[31500000]",
         "['Island']",
         "['Universal']",
         "True",
         "2024-08-25",
         "2024-09-07T00:00:00+00:00",
         "113270824",
         "2024-08-24T00:00:00+00:00",
         null
        ],
        [
         "32",
         "2024-09-01T00:00:00+02:00",
         "5a4ae67e-d91c-4883-95cb-20035f2a3f7a",
         "7403552691299633168",
         "Taste",
         "1",
         "2024-08-23T00:00:00+00:00",
         "['pop']",
         null,
         "['Sabrina Carpenter']",
         "['11e81bba-57e6-3220-a3c7-a0369fe50396']",
         "[31500000]",
         "['Island']",
         "['Universal']",
         "True",
         "2024-08-25",
         "2024-09-06T00:00:00+00:00",
         "105239046",
         "2024-09-06T00:00:00+00:00",
         "3000000.0"
        ],
        [
         "33",
         "2024-09-01T00:00:00+02:00",
         "5a4ae67e-d91c-4883-95cb-20035f2a3f7a",
         "7403552691299633168",
         "Taste",
         "1",
         "2024-08-23T00:00:00+00:00",
         "['pop']",
         null,
         "['Sabrina Carpenter']",
         "['11e81bba-57e6-3220-a3c7-a0369fe50396']",
         "[31500000]",
         "['Island']",
         "['Universal']",
         "True",
         "2024-08-25",
         "2024-09-05T00:00:00+00:00",
         "97165590",
         "2024-09-05T00:00:00+00:00",
         "2900000.0"
        ],
        [
         "34",
         "2024-09-01T00:00:00+02:00",
         "5a4ae67e-d91c-4883-95cb-20035f2a3f7a",
         "7403552691299633168",
         "Taste",
         "1",
         "2024-08-23T00:00:00+00:00",
         "['pop']",
         null,
         "['Sabrina Carpenter']",
         "['11e81bba-57e6-3220-a3c7-a0369fe50396']",
         "[31500000]",
         "['Island']",
         "['Universal']",
         "True",
         "2024-08-25",
         "2024-09-04T00:00:00+00:00",
         "88916578",
         "2024-09-04T00:00:00+00:00",
         "2900000.0"
        ],
        [
         "35",
         "2024-09-01T00:00:00+02:00",
         "5a4ae67e-d91c-4883-95cb-20035f2a3f7a",
         "7403552691299633168",
         "Taste",
         "1",
         "2024-08-23T00:00:00+00:00",
         "['pop']",
         null,
         "['Sabrina Carpenter']",
         "['11e81bba-57e6-3220-a3c7-a0369fe50396']",
         "[31500000]",
         "['Island']",
         "['Universal']",
         "True",
         "2024-08-25",
         "2024-09-03T00:00:00+00:00",
         "81006596",
         "2024-09-03T00:00:00+00:00",
         "2800000.0"
        ],
        [
         "36",
         "2024-09-01T00:00:00+02:00",
         "5a4ae67e-d91c-4883-95cb-20035f2a3f7a",
         "7403552691299633168",
         "Taste",
         "1",
         "2024-08-23T00:00:00+00:00",
         "['pop']",
         null,
         "['Sabrina Carpenter']",
         "['11e81bba-57e6-3220-a3c7-a0369fe50396']",
         "[31500000]",
         "['Island']",
         "['Universal']",
         "True",
         "2024-08-25",
         "2024-09-02T00:00:00+00:00",
         "73604693",
         "2024-09-02T00:00:00+00:00",
         "2700000.0"
        ],
        [
         "37",
         "2024-09-01T00:00:00+02:00",
         "5a4ae67e-d91c-4883-95cb-20035f2a3f7a",
         "7403552691299633168",
         "Taste",
         "1",
         "2024-08-23T00:00:00+00:00",
         "['pop']",
         null,
         "['Sabrina Carpenter']",
         "['11e81bba-57e6-3220-a3c7-a0369fe50396']",
         "[31500000]",
         "['Island']",
         "['Universal']",
         "True",
         "2024-08-25",
         "2024-09-01T00:00:00+00:00",
         "65366036",
         "2024-09-01T00:00:00+00:00",
         "2500000.0"
        ],
        [
         "38",
         "2024-09-01T00:00:00+02:00",
         "5a4ae67e-d91c-4883-95cb-20035f2a3f7a",
         "7403552691299633168",
         "Taste",
         "1",
         "2024-08-23T00:00:00+00:00",
         "['pop']",
         null,
         "['Sabrina Carpenter']",
         "['11e81bba-57e6-3220-a3c7-a0369fe50396']",
         "[31500000]",
         "['Island']",
         "['Universal']",
         "True",
         "2024-08-25",
         "2024-08-31T00:00:00+00:00",
         "56112459",
         "2024-08-24T00:00:00+00:00",
         null
        ],
        [
         "39",
         "2024-09-01T00:00:00+02:00",
         "5a4ae67e-d91c-4883-95cb-20035f2a3f7a",
         "7403552691299633168",
         "Taste",
         "1",
         "2024-08-23T00:00:00+00:00",
         "['pop']",
         null,
         "['Sabrina Carpenter']",
         "['11e81bba-57e6-3220-a3c7-a0369fe50396']",
         "[31500000]",
         "['Island']",
         "['Universal']",
         "True",
         "2024-08-25",
         "2024-08-30T00:00:00+00:00",
         "46857399",
         "2024-08-30T00:00:00+00:00",
         "2200000.0"
        ],
        [
         "40",
         "2024-09-01T00:00:00+02:00",
         "5a4ae67e-d91c-4883-95cb-20035f2a3f7a",
         "7403552691299633168",
         "Taste",
         "1",
         "2024-08-23T00:00:00+00:00",
         "['pop']",
         null,
         "['Sabrina Carpenter']",
         "['11e81bba-57e6-3220-a3c7-a0369fe50396']",
         "[31500000]",
         "['Island']",
         "['Universal']",
         "True",
         "2024-08-25",
         "2024-08-29T00:00:00+00:00",
         "37626491",
         "2024-08-29T00:00:00+00:00",
         "2000000.0"
        ],
        [
         "41",
         "2024-09-01T00:00:00+02:00",
         "5a4ae67e-d91c-4883-95cb-20035f2a3f7a",
         "7403552691299633168",
         "Taste",
         "1",
         "2024-08-23T00:00:00+00:00",
         "['pop']",
         null,
         "['Sabrina Carpenter']",
         "['11e81bba-57e6-3220-a3c7-a0369fe50396']",
         "[31500000]",
         "['Island']",
         "['Universal']",
         "True",
         "2024-08-25",
         "2024-08-28T00:00:00+00:00",
         "29195669",
         "2024-08-28T00:00:00+00:00",
         "1500000.0"
        ],
        [
         "42",
         "2024-09-01T00:00:00+02:00",
         "5a4ae67e-d91c-4883-95cb-20035f2a3f7a",
         "7403552691299633168",
         "Taste",
         "1",
         "2024-08-23T00:00:00+00:00",
         "['pop']",
         null,
         "['Sabrina Carpenter']",
         "['11e81bba-57e6-3220-a3c7-a0369fe50396']",
         "[31500000]",
         "['Island']",
         "['Universal']",
         "True",
         "2024-08-25",
         "2024-08-27T00:00:00+00:00",
         "21053295",
         "2024-08-24T00:00:00+00:00",
         null
        ],
        [
         "43",
         "2024-09-01T00:00:00+02:00",
         "5a4ae67e-d91c-4883-95cb-20035f2a3f7a",
         "7403552691299633168",
         "Taste",
         "1",
         "2024-08-23T00:00:00+00:00",
         "['pop']",
         null,
         "['Sabrina Carpenter']",
         "['11e81bba-57e6-3220-a3c7-a0369fe50396']",
         "[31500000]",
         "['Island']",
         "['Universal']",
         "True",
         "2024-08-25",
         "2024-08-26T00:00:00+00:00",
         "14232592",
         "2024-08-26T00:00:00+00:00",
         "1100000.0"
        ],
        [
         "44",
         "2024-09-01T00:00:00+02:00",
         "5a4ae67e-d91c-4883-95cb-20035f2a3f7a",
         "7403552691299633168",
         "Taste",
         "1",
         "2024-08-23T00:00:00+00:00",
         "['pop']",
         null,
         "['Sabrina Carpenter']",
         "['11e81bba-57e6-3220-a3c7-a0369fe50396']",
         "[31500000]",
         "['Island']",
         "['Universal']",
         "True",
         "2024-08-25",
         "2024-08-25T00:00:00+00:00",
         "7289339",
         "2024-08-25T00:00:00+00:00",
         "657400.0"
        ],
        [
         "45",
         "2024-09-01T00:00:00+02:00",
         "5a4ae67e-d91c-4883-95cb-20035f2a3f7a",
         "7403552691299633168",
         "Taste",
         "1",
         "2024-08-23T00:00:00+00:00",
         "['pop']",
         null,
         "['Sabrina Carpenter']",
         "['11e81bba-57e6-3220-a3c7-a0369fe50396']",
         "[31500000]",
         "['Island']",
         "['Universal']",
         "True",
         "2024-08-25",
         "2024-08-24T00:00:00+00:00",
         "293934",
         "2024-08-24T00:00:00+00:00",
         "287700.0"
        ],
        [
         "46",
         "2024-09-01T00:00:00+02:00",
         "e0e61cbd-e5ae-45b1-a443-dc8dac6b9dac",
         "7296136277207730178",
         "พี่ชอบหนูที่สุดเลย",
         "2",
         "2023-11-02T00:00:00+00:00",
         "['pop']",
         "{'acousticness': 0.84, 'danceability': 0.75, 'energy': 0.72, 'instrumentalness': 0.01, 'key': 0, 'liveness': 0.09, 'loudness': -7.81, 'mode': 1, 'speechiness': 0.08, 'tempo': 155.14, 'timeSignature': 4, 'valence': 0.89}",
         "['Ponchet', 'VARINZ - Speed Up Version']",
         "['02e19e56-0bb8-11e9-8ea7-549f35161576', '08a6be8b-8d85-46fa-9cf2-e6453d9f4816']",
         "[38900, None]",
         "['PONCHET']",
         "['Self released']",
         "True",
         "2023-11-20",
         "2024-01-03T00:00:00+00:00",
         "1063459",
         "2024-08-24T00:00:00+00:00",
         null
        ],
        [
         "47",
         "2024-09-01T00:00:00+02:00",
         "e0e61cbd-e5ae-45b1-a443-dc8dac6b9dac",
         "7296136277207730178",
         "พี่ชอบหนูที่สุดเลย",
         "2",
         "2023-11-02T00:00:00+00:00",
         "['pop']",
         "{'acousticness': 0.84, 'danceability': 0.75, 'energy': 0.72, 'instrumentalness': 0.01, 'key': 0, 'liveness': 0.09, 'loudness': -7.81, 'mode': 1, 'speechiness': 0.08, 'tempo': 155.14, 'timeSignature': 4, 'valence': 0.89}",
         "['Ponchet', 'VARINZ - Speed Up Version']",
         "['02e19e56-0bb8-11e9-8ea7-549f35161576', '08a6be8b-8d85-46fa-9cf2-e6453d9f4816']",
         "[38900, None]",
         "['PONCHET']",
         "['Self released']",
         "True",
         "2023-11-20",
         "2024-01-02T00:00:00+00:00",
         "1025704",
         "2024-08-24T00:00:00+00:00",
         null
        ],
        [
         "48",
         "2024-09-01T00:00:00+02:00",
         "e0e61cbd-e5ae-45b1-a443-dc8dac6b9dac",
         "7296136277207730178",
         "พี่ชอบหนูที่สุดเลย",
         "2",
         "2023-11-02T00:00:00+00:00",
         "['pop']",
         "{'acousticness': 0.84, 'danceability': 0.75, 'energy': 0.72, 'instrumentalness': 0.01, 'key': 0, 'liveness': 0.09, 'loudness': -7.81, 'mode': 1, 'speechiness': 0.08, 'tempo': 155.14, 'timeSignature': 4, 'valence': 0.89}",
         "['Ponchet', 'VARINZ - Speed Up Version']",
         "['02e19e56-0bb8-11e9-8ea7-549f35161576', '08a6be8b-8d85-46fa-9cf2-e6453d9f4816']",
         "[38900, None]",
         "['PONCHET']",
         "['Self released']",
         "True",
         "2023-11-20",
         "2024-01-01T00:00:00+00:00",
         "983119",
         "2024-08-24T00:00:00+00:00",
         null
        ],
        [
         "49",
         "2024-09-01T00:00:00+02:00",
         "e0e61cbd-e5ae-45b1-a443-dc8dac6b9dac",
         "7296136277207730178",
         "พี่ชอบหนูที่สุดเลย",
         "2",
         "2023-11-02T00:00:00+00:00",
         "['pop']",
         "{'acousticness': 0.84, 'danceability': 0.75, 'energy': 0.72, 'instrumentalness': 0.01, 'key': 0, 'liveness': 0.09, 'loudness': -7.81, 'mode': 1, 'speechiness': 0.08, 'tempo': 155.14, 'timeSignature': 4, 'valence': 0.89}",
         "['Ponchet', 'VARINZ - Speed Up Version']",
         "['02e19e56-0bb8-11e9-8ea7-549f35161576', '08a6be8b-8d85-46fa-9cf2-e6453d9f4816']",
         "[38900, None]",
         "['PONCHET']",
         "['Self released']",
         "True",
         "2023-11-20",
         "2023-12-31T00:00:00+00:00",
         "941407",
         "2024-08-24T00:00:00+00:00",
         null
        ]
       ],
       "shape": {
        "columns": 19,
        "rows": 19797
       }
      },
      "text/html": [
       "<div>\n",
       "<style scoped>\n",
       "    .dataframe tbody tr th:only-of-type {\n",
       "        vertical-align: middle;\n",
       "    }\n",
       "\n",
       "    .dataframe tbody tr th {\n",
       "        vertical-align: top;\n",
       "    }\n",
       "\n",
       "    .dataframe thead th {\n",
       "        text-align: right;\n",
       "    }\n",
       "</style>\n",
       "<table border=\"1\" class=\"dataframe\">\n",
       "  <thead>\n",
       "    <tr style=\"text-align: right;\">\n",
       "      <th></th>\n",
       "      <th>collection_date</th>\n",
       "      <th>track_id</th>\n",
       "      <th>track_tiktok_id</th>\n",
       "      <th>track_name</th>\n",
       "      <th>track_position</th>\n",
       "      <th>track_date</th>\n",
       "      <th>track_genres</th>\n",
       "      <th>track_features</th>\n",
       "      <th>artist_name</th>\n",
       "      <th>artist_id</th>\n",
       "      <th>artist_followers</th>\n",
       "      <th>label_name</th>\n",
       "      <th>label_type</th>\n",
       "      <th>artist_video</th>\n",
       "      <th>artist_video_date</th>\n",
       "      <th>stream_date</th>\n",
       "      <th>spotify_streams</th>\n",
       "      <th>tiktok_stream_date</th>\n",
       "      <th>tiktok_streams</th>\n",
       "    </tr>\n",
       "  </thead>\n",
       "  <tbody>\n",
       "    <tr>\n",
       "      <th>0</th>\n",
       "      <td>2024-09-01T00:00:00+02:00</td>\n",
       "      <td>5a4ae67e-d91c-4883-95cb-20035f2a3f7a</td>\n",
       "      <td>7403552691299633168</td>\n",
       "      <td>Taste</td>\n",
       "      <td>1</td>\n",
       "      <td>2024-08-23T00:00:00+00:00</td>\n",
       "      <td>['pop']</td>\n",
       "      <td>NaN</td>\n",
       "      <td>['Sabrina Carpenter']</td>\n",
       "      <td>['11e81bba-57e6-3220-a3c7-a0369fe50396']</td>\n",
       "      <td>[31500000]</td>\n",
       "      <td>['Island']</td>\n",
       "      <td>['Universal']</td>\n",
       "      <td>True</td>\n",
       "      <td>2024-08-25</td>\n",
       "      <td>2024-10-08T00:00:00+00:00</td>\n",
       "      <td>318651503</td>\n",
       "      <td>2024-08-24T00:00:00+00:00</td>\n",
       "      <td>NaN</td>\n",
       "    </tr>\n",
       "    <tr>\n",
       "      <th>1</th>\n",
       "      <td>2024-09-01T00:00:00+02:00</td>\n",
       "      <td>5a4ae67e-d91c-4883-95cb-20035f2a3f7a</td>\n",
       "      <td>7403552691299633168</td>\n",
       "      <td>Taste</td>\n",
       "      <td>1</td>\n",
       "      <td>2024-08-23T00:00:00+00:00</td>\n",
       "      <td>['pop']</td>\n",
       "      <td>NaN</td>\n",
       "      <td>['Sabrina Carpenter']</td>\n",
       "      <td>['11e81bba-57e6-3220-a3c7-a0369fe50396']</td>\n",
       "      <td>[31500000]</td>\n",
       "      <td>['Island']</td>\n",
       "      <td>['Universal']</td>\n",
       "      <td>True</td>\n",
       "      <td>2024-08-25</td>\n",
       "      <td>2024-10-07T00:00:00+00:00</td>\n",
       "      <td>313216563</td>\n",
       "      <td>2024-08-24T00:00:00+00:00</td>\n",
       "      <td>NaN</td>\n",
       "    </tr>\n",
       "    <tr>\n",
       "      <th>2</th>\n",
       "      <td>2024-09-01T00:00:00+02:00</td>\n",
       "      <td>5a4ae67e-d91c-4883-95cb-20035f2a3f7a</td>\n",
       "      <td>7403552691299633168</td>\n",
       "      <td>Taste</td>\n",
       "      <td>1</td>\n",
       "      <td>2024-08-23T00:00:00+00:00</td>\n",
       "      <td>['pop']</td>\n",
       "      <td>NaN</td>\n",
       "      <td>['Sabrina Carpenter']</td>\n",
       "      <td>['11e81bba-57e6-3220-a3c7-a0369fe50396']</td>\n",
       "      <td>[31500000]</td>\n",
       "      <td>['Island']</td>\n",
       "      <td>['Universal']</td>\n",
       "      <td>True</td>\n",
       "      <td>2024-08-25</td>\n",
       "      <td>2024-10-06T00:00:00+00:00</td>\n",
       "      <td>307119726</td>\n",
       "      <td>2024-10-06T00:00:00+00:00</td>\n",
       "      <td>2600000.0</td>\n",
       "    </tr>\n",
       "    <tr>\n",
       "      <th>3</th>\n",
       "      <td>2024-09-01T00:00:00+02:00</td>\n",
       "      <td>5a4ae67e-d91c-4883-95cb-20035f2a3f7a</td>\n",
       "      <td>7403552691299633168</td>\n",
       "      <td>Taste</td>\n",
       "      <td>1</td>\n",
       "      <td>2024-08-23T00:00:00+00:00</td>\n",
       "      <td>['pop']</td>\n",
       "      <td>NaN</td>\n",
       "      <td>['Sabrina Carpenter']</td>\n",
       "      <td>['11e81bba-57e6-3220-a3c7-a0369fe50396']</td>\n",
       "      <td>[31500000]</td>\n",
       "      <td>['Island']</td>\n",
       "      <td>['Universal']</td>\n",
       "      <td>True</td>\n",
       "      <td>2024-08-25</td>\n",
       "      <td>2024-10-05T00:00:00+00:00</td>\n",
       "      <td>300681297</td>\n",
       "      <td>2024-08-24T00:00:00+00:00</td>\n",
       "      <td>NaN</td>\n",
       "    </tr>\n",
       "    <tr>\n",
       "      <th>4</th>\n",
       "      <td>2024-09-01T00:00:00+02:00</td>\n",
       "      <td>5a4ae67e-d91c-4883-95cb-20035f2a3f7a</td>\n",
       "      <td>7403552691299633168</td>\n",
       "      <td>Taste</td>\n",
       "      <td>1</td>\n",
       "      <td>2024-08-23T00:00:00+00:00</td>\n",
       "      <td>['pop']</td>\n",
       "      <td>NaN</td>\n",
       "      <td>['Sabrina Carpenter']</td>\n",
       "      <td>['11e81bba-57e6-3220-a3c7-a0369fe50396']</td>\n",
       "      <td>[31500000]</td>\n",
       "      <td>['Island']</td>\n",
       "      <td>['Universal']</td>\n",
       "      <td>True</td>\n",
       "      <td>2024-08-25</td>\n",
       "      <td>2024-10-04T00:00:00+00:00</td>\n",
       "      <td>294398878</td>\n",
       "      <td>2024-10-04T00:00:00+00:00</td>\n",
       "      <td>2600000.0</td>\n",
       "    </tr>\n",
       "    <tr>\n",
       "      <th>...</th>\n",
       "      <td>...</td>\n",
       "      <td>...</td>\n",
       "      <td>...</td>\n",
       "      <td>...</td>\n",
       "      <td>...</td>\n",
       "      <td>...</td>\n",
       "      <td>...</td>\n",
       "      <td>...</td>\n",
       "      <td>...</td>\n",
       "      <td>...</td>\n",
       "      <td>...</td>\n",
       "      <td>...</td>\n",
       "      <td>...</td>\n",
       "      <td>...</td>\n",
       "      <td>...</td>\n",
       "      <td>...</td>\n",
       "      <td>...</td>\n",
       "      <td>...</td>\n",
       "      <td>...</td>\n",
       "    </tr>\n",
       "    <tr>\n",
       "      <th>19792</th>\n",
       "      <td>2024-09-01T00:00:00+02:00</td>\n",
       "      <td>1e23be4e-7232-4f8d-b342-e771ed94c2a9</td>\n",
       "      <td>7093206384738437893</td>\n",
       "      <td>Damn</td>\n",
       "      <td>459</td>\n",
       "      <td>2020-05-22T00:00:00+00:00</td>\n",
       "      <td>['pop', 'r&amp;b, funk &amp; soul']</td>\n",
       "      <td>{'acousticness': 0.58, 'danceability': 0.72, '...</td>\n",
       "      <td>['Omah lay']</td>\n",
       "      <td>['28810016-6284-11e9-bd7c-549f35141000']</td>\n",
       "      <td>[2500000]</td>\n",
       "      <td>['Sire', 'The KeyQaad']</td>\n",
       "      <td>['Warner', 'unknown']</td>\n",
       "      <td>False</td>\n",
       "      <td>2024-09-01T00:00:00+02:00</td>\n",
       "      <td>2024-07-22T00:00:00+00:00</td>\n",
       "      <td>25997902</td>\n",
       "      <td>2024-07-22T00:00:00+00:00</td>\n",
       "      <td>15200.0</td>\n",
       "    </tr>\n",
       "    <tr>\n",
       "      <th>19793</th>\n",
       "      <td>2024-09-01T00:00:00+02:00</td>\n",
       "      <td>1e23be4e-7232-4f8d-b342-e771ed94c2a9</td>\n",
       "      <td>7093206384738437893</td>\n",
       "      <td>Damn</td>\n",
       "      <td>459</td>\n",
       "      <td>2020-05-22T00:00:00+00:00</td>\n",
       "      <td>['pop', 'r&amp;b, funk &amp; soul']</td>\n",
       "      <td>{'acousticness': 0.58, 'danceability': 0.72, '...</td>\n",
       "      <td>['Omah lay']</td>\n",
       "      <td>['28810016-6284-11e9-bd7c-549f35141000']</td>\n",
       "      <td>[2500000]</td>\n",
       "      <td>['Sire', 'The KeyQaad']</td>\n",
       "      <td>['Warner', 'unknown']</td>\n",
       "      <td>False</td>\n",
       "      <td>2024-09-01T00:00:00+02:00</td>\n",
       "      <td>2024-07-21T00:00:00+00:00</td>\n",
       "      <td>25980744</td>\n",
       "      <td>2024-07-21T00:00:00+00:00</td>\n",
       "      <td>15100.0</td>\n",
       "    </tr>\n",
       "    <tr>\n",
       "      <th>19794</th>\n",
       "      <td>2024-09-01T00:00:00+02:00</td>\n",
       "      <td>1e23be4e-7232-4f8d-b342-e771ed94c2a9</td>\n",
       "      <td>7093206384738437893</td>\n",
       "      <td>Damn</td>\n",
       "      <td>459</td>\n",
       "      <td>2020-05-22T00:00:00+00:00</td>\n",
       "      <td>['pop', 'r&amp;b, funk &amp; soul']</td>\n",
       "      <td>{'acousticness': 0.58, 'danceability': 0.72, '...</td>\n",
       "      <td>['Omah lay']</td>\n",
       "      <td>['28810016-6284-11e9-bd7c-549f35141000']</td>\n",
       "      <td>[2500000]</td>\n",
       "      <td>['Sire', 'The KeyQaad']</td>\n",
       "      <td>['Warner', 'unknown']</td>\n",
       "      <td>False</td>\n",
       "      <td>2024-09-01T00:00:00+02:00</td>\n",
       "      <td>2024-07-20T00:00:00+00:00</td>\n",
       "      <td>25962471</td>\n",
       "      <td>2024-07-20T00:00:00+00:00</td>\n",
       "      <td>15200.0</td>\n",
       "    </tr>\n",
       "    <tr>\n",
       "      <th>19795</th>\n",
       "      <td>2024-09-01T00:00:00+02:00</td>\n",
       "      <td>1e23be4e-7232-4f8d-b342-e771ed94c2a9</td>\n",
       "      <td>7093206384738437893</td>\n",
       "      <td>Damn</td>\n",
       "      <td>459</td>\n",
       "      <td>2020-05-22T00:00:00+00:00</td>\n",
       "      <td>['pop', 'r&amp;b, funk &amp; soul']</td>\n",
       "      <td>{'acousticness': 0.58, 'danceability': 0.72, '...</td>\n",
       "      <td>['Omah lay']</td>\n",
       "      <td>['28810016-6284-11e9-bd7c-549f35141000']</td>\n",
       "      <td>[2500000]</td>\n",
       "      <td>['Sire', 'The KeyQaad']</td>\n",
       "      <td>['Warner', 'unknown']</td>\n",
       "      <td>False</td>\n",
       "      <td>2024-09-01T00:00:00+02:00</td>\n",
       "      <td>2024-07-19T00:00:00+00:00</td>\n",
       "      <td>25945194</td>\n",
       "      <td>2024-07-19T00:00:00+00:00</td>\n",
       "      <td>15200.0</td>\n",
       "    </tr>\n",
       "    <tr>\n",
       "      <th>19796</th>\n",
       "      <td>2024-09-01T00:00:00+02:00</td>\n",
       "      <td>1e23be4e-7232-4f8d-b342-e771ed94c2a9</td>\n",
       "      <td>7093206384738437893</td>\n",
       "      <td>Damn</td>\n",
       "      <td>459</td>\n",
       "      <td>2020-05-22T00:00:00+00:00</td>\n",
       "      <td>['pop', 'r&amp;b, funk &amp; soul']</td>\n",
       "      <td>{'acousticness': 0.58, 'danceability': 0.72, '...</td>\n",
       "      <td>['Omah lay']</td>\n",
       "      <td>['28810016-6284-11e9-bd7c-549f35141000']</td>\n",
       "      <td>[2500000]</td>\n",
       "      <td>['Sire', 'The KeyQaad']</td>\n",
       "      <td>['Warner', 'unknown']</td>\n",
       "      <td>False</td>\n",
       "      <td>2024-09-01T00:00:00+02:00</td>\n",
       "      <td>2024-07-18T00:00:00+00:00</td>\n",
       "      <td>25927949</td>\n",
       "      <td>2024-07-18T00:00:00+00:00</td>\n",
       "      <td>15200.0</td>\n",
       "    </tr>\n",
       "  </tbody>\n",
       "</table>\n",
       "<p>19797 rows × 19 columns</p>\n",
       "</div>"
      ],
      "text/plain": [
       "                 collection_date                              track_id  \\\n",
       "0      2024-09-01T00:00:00+02:00  5a4ae67e-d91c-4883-95cb-20035f2a3f7a   \n",
       "1      2024-09-01T00:00:00+02:00  5a4ae67e-d91c-4883-95cb-20035f2a3f7a   \n",
       "2      2024-09-01T00:00:00+02:00  5a4ae67e-d91c-4883-95cb-20035f2a3f7a   \n",
       "3      2024-09-01T00:00:00+02:00  5a4ae67e-d91c-4883-95cb-20035f2a3f7a   \n",
       "4      2024-09-01T00:00:00+02:00  5a4ae67e-d91c-4883-95cb-20035f2a3f7a   \n",
       "...                          ...                                   ...   \n",
       "19792  2024-09-01T00:00:00+02:00  1e23be4e-7232-4f8d-b342-e771ed94c2a9   \n",
       "19793  2024-09-01T00:00:00+02:00  1e23be4e-7232-4f8d-b342-e771ed94c2a9   \n",
       "19794  2024-09-01T00:00:00+02:00  1e23be4e-7232-4f8d-b342-e771ed94c2a9   \n",
       "19795  2024-09-01T00:00:00+02:00  1e23be4e-7232-4f8d-b342-e771ed94c2a9   \n",
       "19796  2024-09-01T00:00:00+02:00  1e23be4e-7232-4f8d-b342-e771ed94c2a9   \n",
       "\n",
       "           track_tiktok_id track_name  track_position  \\\n",
       "0      7403552691299633168      Taste               1   \n",
       "1      7403552691299633168      Taste               1   \n",
       "2      7403552691299633168      Taste               1   \n",
       "3      7403552691299633168      Taste               1   \n",
       "4      7403552691299633168      Taste               1   \n",
       "...                    ...        ...             ...   \n",
       "19792  7093206384738437893       Damn             459   \n",
       "19793  7093206384738437893       Damn             459   \n",
       "19794  7093206384738437893       Damn             459   \n",
       "19795  7093206384738437893       Damn             459   \n",
       "19796  7093206384738437893       Damn             459   \n",
       "\n",
       "                      track_date                 track_genres  \\\n",
       "0      2024-08-23T00:00:00+00:00                      ['pop']   \n",
       "1      2024-08-23T00:00:00+00:00                      ['pop']   \n",
       "2      2024-08-23T00:00:00+00:00                      ['pop']   \n",
       "3      2024-08-23T00:00:00+00:00                      ['pop']   \n",
       "4      2024-08-23T00:00:00+00:00                      ['pop']   \n",
       "...                          ...                          ...   \n",
       "19792  2020-05-22T00:00:00+00:00  ['pop', 'r&b, funk & soul']   \n",
       "19793  2020-05-22T00:00:00+00:00  ['pop', 'r&b, funk & soul']   \n",
       "19794  2020-05-22T00:00:00+00:00  ['pop', 'r&b, funk & soul']   \n",
       "19795  2020-05-22T00:00:00+00:00  ['pop', 'r&b, funk & soul']   \n",
       "19796  2020-05-22T00:00:00+00:00  ['pop', 'r&b, funk & soul']   \n",
       "\n",
       "                                          track_features  \\\n",
       "0                                                    NaN   \n",
       "1                                                    NaN   \n",
       "2                                                    NaN   \n",
       "3                                                    NaN   \n",
       "4                                                    NaN   \n",
       "...                                                  ...   \n",
       "19792  {'acousticness': 0.58, 'danceability': 0.72, '...   \n",
       "19793  {'acousticness': 0.58, 'danceability': 0.72, '...   \n",
       "19794  {'acousticness': 0.58, 'danceability': 0.72, '...   \n",
       "19795  {'acousticness': 0.58, 'danceability': 0.72, '...   \n",
       "19796  {'acousticness': 0.58, 'danceability': 0.72, '...   \n",
       "\n",
       "                 artist_name                                 artist_id  \\\n",
       "0      ['Sabrina Carpenter']  ['11e81bba-57e6-3220-a3c7-a0369fe50396']   \n",
       "1      ['Sabrina Carpenter']  ['11e81bba-57e6-3220-a3c7-a0369fe50396']   \n",
       "2      ['Sabrina Carpenter']  ['11e81bba-57e6-3220-a3c7-a0369fe50396']   \n",
       "3      ['Sabrina Carpenter']  ['11e81bba-57e6-3220-a3c7-a0369fe50396']   \n",
       "4      ['Sabrina Carpenter']  ['11e81bba-57e6-3220-a3c7-a0369fe50396']   \n",
       "...                      ...                                       ...   \n",
       "19792           ['Omah lay']  ['28810016-6284-11e9-bd7c-549f35141000']   \n",
       "19793           ['Omah lay']  ['28810016-6284-11e9-bd7c-549f35141000']   \n",
       "19794           ['Omah lay']  ['28810016-6284-11e9-bd7c-549f35141000']   \n",
       "19795           ['Omah lay']  ['28810016-6284-11e9-bd7c-549f35141000']   \n",
       "19796           ['Omah lay']  ['28810016-6284-11e9-bd7c-549f35141000']   \n",
       "\n",
       "      artist_followers               label_name             label_type  \\\n",
       "0           [31500000]               ['Island']          ['Universal']   \n",
       "1           [31500000]               ['Island']          ['Universal']   \n",
       "2           [31500000]               ['Island']          ['Universal']   \n",
       "3           [31500000]               ['Island']          ['Universal']   \n",
       "4           [31500000]               ['Island']          ['Universal']   \n",
       "...                ...                      ...                    ...   \n",
       "19792        [2500000]  ['Sire', 'The KeyQaad']  ['Warner', 'unknown']   \n",
       "19793        [2500000]  ['Sire', 'The KeyQaad']  ['Warner', 'unknown']   \n",
       "19794        [2500000]  ['Sire', 'The KeyQaad']  ['Warner', 'unknown']   \n",
       "19795        [2500000]  ['Sire', 'The KeyQaad']  ['Warner', 'unknown']   \n",
       "19796        [2500000]  ['Sire', 'The KeyQaad']  ['Warner', 'unknown']   \n",
       "\n",
       "       artist_video          artist_video_date                stream_date  \\\n",
       "0              True                 2024-08-25  2024-10-08T00:00:00+00:00   \n",
       "1              True                 2024-08-25  2024-10-07T00:00:00+00:00   \n",
       "2              True                 2024-08-25  2024-10-06T00:00:00+00:00   \n",
       "3              True                 2024-08-25  2024-10-05T00:00:00+00:00   \n",
       "4              True                 2024-08-25  2024-10-04T00:00:00+00:00   \n",
       "...             ...                        ...                        ...   \n",
       "19792         False  2024-09-01T00:00:00+02:00  2024-07-22T00:00:00+00:00   \n",
       "19793         False  2024-09-01T00:00:00+02:00  2024-07-21T00:00:00+00:00   \n",
       "19794         False  2024-09-01T00:00:00+02:00  2024-07-20T00:00:00+00:00   \n",
       "19795         False  2024-09-01T00:00:00+02:00  2024-07-19T00:00:00+00:00   \n",
       "19796         False  2024-09-01T00:00:00+02:00  2024-07-18T00:00:00+00:00   \n",
       "\n",
       "       spotify_streams         tiktok_stream_date  tiktok_streams  \n",
       "0            318651503  2024-08-24T00:00:00+00:00             NaN  \n",
       "1            313216563  2024-08-24T00:00:00+00:00             NaN  \n",
       "2            307119726  2024-10-06T00:00:00+00:00       2600000.0  \n",
       "3            300681297  2024-08-24T00:00:00+00:00             NaN  \n",
       "4            294398878  2024-10-04T00:00:00+00:00       2600000.0  \n",
       "...                ...                        ...             ...  \n",
       "19792         25997902  2024-07-22T00:00:00+00:00         15200.0  \n",
       "19793         25980744  2024-07-21T00:00:00+00:00         15100.0  \n",
       "19794         25962471  2024-07-20T00:00:00+00:00         15200.0  \n",
       "19795         25945194  2024-07-19T00:00:00+00:00         15200.0  \n",
       "19796         25927949  2024-07-18T00:00:00+00:00         15200.0  \n",
       "\n",
       "[19797 rows x 19 columns]"
      ]
     },
     "metadata": {},
     "output_type": "display_data"
    }
   ],
   "source": [
    "# Initialize an empty list to store results\n",
    "results_df = []\n",
    "\n",
    "for index, row in tqdm(df.iterrows(), total=len(df), desc=\"Processing rows\"):\n",
    "    collection_date = row['collection_date']\n",
    "    track_id = row['track_id']\n",
    "    tiktok_id = row['track_tiktok_id']\n",
    "    track_name = row['track_name']\n",
    "    track_position = row['track_position']\n",
    "    track_date = row['track_date']\n",
    "    track_genres = row['track_genres']\n",
    "    track_features = row['track_features']\n",
    "    artist_name = row['artist_name']\n",
    "    artist_id = row['artist_id']\n",
    "    artist_followers = row['artist_followers']\n",
    "    label_name = row['label_name']\n",
    "    label_type = row['label_type']\n",
    "    artist_video = row['artist_video']\n",
    "    artist_video_date = row['artist_video_date']\n",
    "\n",
    "    if pd.isna(artist_video_date) or artist_video_date is None:\n",
    "        artist_video_date = collection_date \n",
    "\n",
    "    try:\n",
    "        artist_video_date_dt = datetime.fromisoformat(artist_video_date)\n",
    "        start_date = (artist_video_date_dt - timedelta(days=45)).strftime('%Y-%m-%d')\n",
    "        end_date = (artist_video_date_dt + timedelta(days=44)).strftime('%Y-%m-%d')\n",
    "\n",
    "        # Fetch Spotify streams\n",
    "        streams_data = sdch.get_track_streams_by_date(\n",
    "            startDate=start_date,\n",
    "            endDate=end_date,\n",
    "            track_id=track_id\n",
    "        )\n",
    "\n",
    "        # Fetch TikTok video streams\n",
    "        tiktok_streams_data = sdch.get_tiktok_streams_by_date(\n",
    "            endDate=end_date,\n",
    "            period=90,  # Fetching 90 days of TikTok data\n",
    "            track_id=tiktok_id\n",
    "        )\n",
    "\n",
    "        processed_date = set()\n",
    "\n",
    "        for item in streams_data.get(\"items\", []):\n",
    "            date = item.get(\"date\")\n",
    "            if date in processed_date:\n",
    "                continue\n",
    "            \n",
    "            processed_date.add(date)\n",
    "            \n",
    "            first_plot = next(iter(item.get(\"plots\", [])), None)\n",
    "            spotify_streams = first_plot.get(\"value\") if first_plot else None\n",
    "\n",
    "            # Extract TikTok streams for the same date\n",
    "            tiktok_streams_value = None\n",
    "            \n",
    "            if \"items\" in tiktok_streams_data and tiktok_streams_data[\"items\"]:\n",
    "                for tiktok_item in tiktok_streams_data[\"items\"]:\n",
    "                    tiktok_date = tiktok_item.get(\"date\")\n",
    "                    if tiktok_date == date:\n",
    "                        tiktok_streams_value = tiktok_item.get(\"value\", None)\n",
    "                        tiktok_stream_date = tiktok_date\n",
    "                        break \n",
    "                    \n",
    "            results_df.append({\n",
    "                \"collection_date\": collection_date,\n",
    "                \"track_id\": track_id,\n",
    "                \"track_tiktok_id\": tiktok_id,\n",
    "                \"track_name\": track_name,\n",
    "                \"track_position\": track_position, \n",
    "                \"track_date\": track_date, \n",
    "                \"track_genres\": track_genres, \n",
    "                \"track_features\": track_features, \n",
    "                \"artist_name\": artist_name,\n",
    "                \"artist_id\": artist_id, \n",
    "                \"artist_followers\": artist_followers, \n",
    "                \"label_name\": label_name, \n",
    "                \"label_type\": label_type, \n",
    "                \"artist_video\": artist_video, \n",
    "                \"artist_video_date\": artist_video_date, \n",
    "                \"stream_date\": date,\n",
    "                \"spotify_streams\": spotify_streams,\n",
    "                \"tiktok_stream_date\": tiktok_date,\n",
    "                \"tiktok_streams\": tiktok_streams_value,\n",
    "            })\n",
    "\n",
    "    except Exception as e:\n",
    "        print(f\"Error for track {track_id}: {e}\")\n",
    "\n",
    "# Convert the list to a DataFrame\n",
    "df_results = pd.DataFrame(results_df)\n",
    "df_results.to_csv('tiktok_streams.csv', index=False)\n",
    "\n",
    "# Print the DataFrame\n",
    "display(df_results)\n"
   ]
  }
 ],
 "metadata": {
  "kernelspec": {
   "display_name": "Python 3",
   "language": "python",
   "name": "python3"
  },
  "language_info": {
   "codemirror_mode": {
    "name": "ipython",
    "version": 3
   },
   "file_extension": ".py",
   "mimetype": "text/x-python",
   "name": "python",
   "nbconvert_exporter": "python",
   "pygments_lexer": "ipython3",
   "version": "3.10.2"
  }
 },
 "nbformat": 4,
 "nbformat_minor": 2
}
